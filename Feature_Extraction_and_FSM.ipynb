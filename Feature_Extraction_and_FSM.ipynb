{
  "cells": [
    {
      "cell_type": "code",
      "execution_count": null,
      "metadata": {
        "id": "Hc3kvC9VgSrQ"
      },
      "outputs": [],
      "source": [
        "import pandas as pd\n",
        "import numpy as np\n",
        "import os\n",
        "import sys\n",
        "import librosa\n",
        "import librosa.display\n",
        "import seaborn as sns\n",
        "import matplotlib\n",
        "import matplotlib.pyplot as plt\n",
        "import warnings\n",
        "warnings.filterwarnings('ignore')\n",
        "import librosa\n",
        "import librosa.display\n",
        "import IPython.display as ipd\n",
        "import scipy\n",
        "from scipy import mean\n",
        "from scipy.stats import skew\n",
        "from scipy.stats import kurtosis"
      ]
    },
    {
      "cell_type": "code",
      "execution_count": null,
      "metadata": {
        "colab": {
          "base_uri": "https://localhost:8080/",
          "height": 206
        },
        "id": "mUA-HGHkgSZi",
        "outputId": "4cb6fc99-3cff-4ed9-a27c-c3b7f1fd1538"
      },
      "outputs": [
        {
          "output_type": "execute_result",
          "data": {
            "text/plain": [
              "  Emotions                                               Path\n",
              "0      sad  /content/drive/MyDrive/AudioMP3v2/1080_DFA_SAD...\n",
              "1    happy  /content/drive/MyDrive/AudioMP3v2/1079_WSI_HAP...\n",
              "2     fear  /content/drive/MyDrive/AudioMP3v2/1080_IOM_FEA...\n",
              "3  disgust  /content/drive/MyDrive/AudioMP3v2/1079_MTI_DIS...\n",
              "4      sad  /content/drive/MyDrive/AudioMP3v2/1079_ITS_SAD..."
            ],
            "text/html": [
              "\n",
              "\n",
              "  <div id=\"df-3fb1daf7-92c3-4c4d-8670-deabf1396536\">\n",
              "    <div class=\"colab-df-container\">\n",
              "      <div>\n",
              "<style scoped>\n",
              "    .dataframe tbody tr th:only-of-type {\n",
              "        vertical-align: middle;\n",
              "    }\n",
              "\n",
              "    .dataframe tbody tr th {\n",
              "        vertical-align: top;\n",
              "    }\n",
              "\n",
              "    .dataframe thead th {\n",
              "        text-align: right;\n",
              "    }\n",
              "</style>\n",
              "<table border=\"1\" class=\"dataframe\">\n",
              "  <thead>\n",
              "    <tr style=\"text-align: right;\">\n",
              "      <th></th>\n",
              "      <th>Emotions</th>\n",
              "      <th>Path</th>\n",
              "    </tr>\n",
              "  </thead>\n",
              "  <tbody>\n",
              "    <tr>\n",
              "      <th>0</th>\n",
              "      <td>sad</td>\n",
              "      <td>/content/drive/MyDrive/AudioMP3v2/1080_DFA_SAD...</td>\n",
              "    </tr>\n",
              "    <tr>\n",
              "      <th>1</th>\n",
              "      <td>happy</td>\n",
              "      <td>/content/drive/MyDrive/AudioMP3v2/1079_WSI_HAP...</td>\n",
              "    </tr>\n",
              "    <tr>\n",
              "      <th>2</th>\n",
              "      <td>fear</td>\n",
              "      <td>/content/drive/MyDrive/AudioMP3v2/1080_IOM_FEA...</td>\n",
              "    </tr>\n",
              "    <tr>\n",
              "      <th>3</th>\n",
              "      <td>disgust</td>\n",
              "      <td>/content/drive/MyDrive/AudioMP3v2/1079_MTI_DIS...</td>\n",
              "    </tr>\n",
              "    <tr>\n",
              "      <th>4</th>\n",
              "      <td>sad</td>\n",
              "      <td>/content/drive/MyDrive/AudioMP3v2/1079_ITS_SAD...</td>\n",
              "    </tr>\n",
              "  </tbody>\n",
              "</table>\n",
              "</div>\n",
              "      <button class=\"colab-df-convert\" onclick=\"convertToInteractive('df-3fb1daf7-92c3-4c4d-8670-deabf1396536')\"\n",
              "              title=\"Convert this dataframe to an interactive table.\"\n",
              "              style=\"display:none;\">\n",
              "\n",
              "  <svg xmlns=\"http://www.w3.org/2000/svg\" height=\"24px\"viewBox=\"0 0 24 24\"\n",
              "       width=\"24px\">\n",
              "    <path d=\"M0 0h24v24H0V0z\" fill=\"none\"/>\n",
              "    <path d=\"M18.56 5.44l.94 2.06.94-2.06 2.06-.94-2.06-.94-.94-2.06-.94 2.06-2.06.94zm-11 1L8.5 8.5l.94-2.06 2.06-.94-2.06-.94L8.5 2.5l-.94 2.06-2.06.94zm10 10l.94 2.06.94-2.06 2.06-.94-2.06-.94-.94-2.06-.94 2.06-2.06.94z\"/><path d=\"M17.41 7.96l-1.37-1.37c-.4-.4-.92-.59-1.43-.59-.52 0-1.04.2-1.43.59L10.3 9.45l-7.72 7.72c-.78.78-.78 2.05 0 2.83L4 21.41c.39.39.9.59 1.41.59.51 0 1.02-.2 1.41-.59l7.78-7.78 2.81-2.81c.8-.78.8-2.07 0-2.86zM5.41 20L4 18.59l7.72-7.72 1.47 1.35L5.41 20z\"/>\n",
              "  </svg>\n",
              "      </button>\n",
              "\n",
              "\n",
              "\n",
              "    <div id=\"df-d3e246ea-6814-443c-b0f7-5ee5293d21c7\">\n",
              "      <button class=\"colab-df-quickchart\" onclick=\"quickchart('df-d3e246ea-6814-443c-b0f7-5ee5293d21c7')\"\n",
              "              title=\"Suggest charts.\"\n",
              "              style=\"display:none;\">\n",
              "\n",
              "<svg xmlns=\"http://www.w3.org/2000/svg\" height=\"24px\"viewBox=\"0 0 24 24\"\n",
              "     width=\"24px\">\n",
              "    <g>\n",
              "        <path d=\"M19 3H5c-1.1 0-2 .9-2 2v14c0 1.1.9 2 2 2h14c1.1 0 2-.9 2-2V5c0-1.1-.9-2-2-2zM9 17H7v-7h2v7zm4 0h-2V7h2v10zm4 0h-2v-4h2v4z\"/>\n",
              "    </g>\n",
              "</svg>\n",
              "      </button>\n",
              "    </div>\n",
              "\n",
              "<style>\n",
              "  .colab-df-quickchart {\n",
              "    background-color: #E8F0FE;\n",
              "    border: none;\n",
              "    border-radius: 50%;\n",
              "    cursor: pointer;\n",
              "    display: none;\n",
              "    fill: #1967D2;\n",
              "    height: 32px;\n",
              "    padding: 0 0 0 0;\n",
              "    width: 32px;\n",
              "  }\n",
              "\n",
              "  .colab-df-quickchart:hover {\n",
              "    background-color: #E2EBFA;\n",
              "    box-shadow: 0px 1px 2px rgba(60, 64, 67, 0.3), 0px 1px 3px 1px rgba(60, 64, 67, 0.15);\n",
              "    fill: #174EA6;\n",
              "  }\n",
              "\n",
              "  [theme=dark] .colab-df-quickchart {\n",
              "    background-color: #3B4455;\n",
              "    fill: #D2E3FC;\n",
              "  }\n",
              "\n",
              "  [theme=dark] .colab-df-quickchart:hover {\n",
              "    background-color: #434B5C;\n",
              "    box-shadow: 0px 1px 3px 1px rgba(0, 0, 0, 0.15);\n",
              "    filter: drop-shadow(0px 1px 2px rgba(0, 0, 0, 0.3));\n",
              "    fill: #FFFFFF;\n",
              "  }\n",
              "</style>\n",
              "\n",
              "    <script>\n",
              "      async function quickchart(key) {\n",
              "        const containerElement = document.querySelector('#' + key);\n",
              "        const charts = await google.colab.kernel.invokeFunction(\n",
              "            'suggestCharts', [key], {});\n",
              "      }\n",
              "    </script>\n",
              "\n",
              "      <script>\n",
              "\n",
              "function displayQuickchartButton(domScope) {\n",
              "  let quickchartButtonEl =\n",
              "    domScope.querySelector('#df-d3e246ea-6814-443c-b0f7-5ee5293d21c7 button.colab-df-quickchart');\n",
              "  quickchartButtonEl.style.display =\n",
              "    google.colab.kernel.accessAllowed ? 'block' : 'none';\n",
              "}\n",
              "\n",
              "        displayQuickchartButton(document);\n",
              "      </script>\n",
              "      <style>\n",
              "    .colab-df-container {\n",
              "      display:flex;\n",
              "      flex-wrap:wrap;\n",
              "      gap: 12px;\n",
              "    }\n",
              "\n",
              "    .colab-df-convert {\n",
              "      background-color: #E8F0FE;\n",
              "      border: none;\n",
              "      border-radius: 50%;\n",
              "      cursor: pointer;\n",
              "      display: none;\n",
              "      fill: #1967D2;\n",
              "      height: 32px;\n",
              "      padding: 0 0 0 0;\n",
              "      width: 32px;\n",
              "    }\n",
              "\n",
              "    .colab-df-convert:hover {\n",
              "      background-color: #E2EBFA;\n",
              "      box-shadow: 0px 1px 2px rgba(60, 64, 67, 0.3), 0px 1px 3px 1px rgba(60, 64, 67, 0.15);\n",
              "      fill: #174EA6;\n",
              "    }\n",
              "\n",
              "    [theme=dark] .colab-df-convert {\n",
              "      background-color: #3B4455;\n",
              "      fill: #D2E3FC;\n",
              "    }\n",
              "\n",
              "    [theme=dark] .colab-df-convert:hover {\n",
              "      background-color: #434B5C;\n",
              "      box-shadow: 0px 1px 3px 1px rgba(0, 0, 0, 0.15);\n",
              "      filter: drop-shadow(0px 1px 2px rgba(0, 0, 0, 0.3));\n",
              "      fill: #FFFFFF;\n",
              "    }\n",
              "  </style>\n",
              "\n",
              "      <script>\n",
              "        const buttonEl =\n",
              "          document.querySelector('#df-3fb1daf7-92c3-4c4d-8670-deabf1396536 button.colab-df-convert');\n",
              "        buttonEl.style.display =\n",
              "          google.colab.kernel.accessAllowed ? 'block' : 'none';\n",
              "\n",
              "        async function convertToInteractive(key) {\n",
              "          const element = document.querySelector('#df-3fb1daf7-92c3-4c4d-8670-deabf1396536');\n",
              "          const dataTable =\n",
              "            await google.colab.kernel.invokeFunction('convertToInteractive',\n",
              "                                                     [key], {});\n",
              "          if (!dataTable) return;\n",
              "\n",
              "          const docLinkHtml = 'Like what you see? Visit the ' +\n",
              "            '<a target=\"_blank\" href=https://colab.research.google.com/notebooks/data_table.ipynb>data table notebook</a>'\n",
              "            + ' to learn more about interactive tables.';\n",
              "          element.innerHTML = '';\n",
              "          dataTable['output_type'] = 'display_data';\n",
              "          await google.colab.output.renderOutput(dataTable, element);\n",
              "          const docLink = document.createElement('div');\n",
              "          docLink.innerHTML = docLinkHtml;\n",
              "          element.appendChild(docLink);\n",
              "        }\n",
              "      </script>\n",
              "    </div>\n",
              "  </div>\n"
            ]
          },
          "metadata": {},
          "execution_count": 3
        }
      ],
      "source": [
        "crema_directory_list = os.listdir(\"/content/drive/MyDrive/AudioMP3v2\")\n",
        "\n",
        "file_emotion = []\n",
        "file_path = []\n",
        "\n",
        "for file in crema_directory_list:\n",
        "    file_path.append(\"/content/drive/MyDrive/AudioMP3v2\" + \"/\" + file)\n",
        "    part = file.split('_')[2]\n",
        "    if part=='ANG':\n",
        "        file_emotion.append('angry')\n",
        "    elif part=='SAD':\n",
        "        file_emotion.append('sad')\n",
        "    elif part=='FEA':\n",
        "        file_emotion.append('fear')\n",
        "    elif part=='DIS':\n",
        "        file_emotion.append('disgust')\n",
        "    elif part=='NEU':\n",
        "        file_emotion.append('neutral')\n",
        "    elif part=='HAP':\n",
        "        file_emotion.append('happy')\n",
        "    else:\n",
        "        file_emotion.append('unknown')\n",
        "\n",
        "# dataframe for emotion of files\n",
        "emotion_df = pd.DataFrame(file_emotion, columns=['Emotions'])\n",
        "\n",
        "# dataframe for path of files.\n",
        "path_df = pd.DataFrame(file_path, columns=['Path'])\n",
        "crema_df = pd.concat([emotion_df, path_df], axis=1)\n",
        "crema_df.head()"
      ]
    },
    {
      "cell_type": "code",
      "execution_count": null,
      "metadata": {
        "id": "00VLzgvvSQav"
      },
      "outputs": [],
      "source": [
        "def zcr_stats(series):\n",
        "  zcr_mean= []\n",
        "  zcr_std = []\n",
        "  zcr_kurt = []\n",
        "  zcr_skew = []\n",
        "\n",
        "  for sound in series:\n",
        "      y,sr = librosa.load(sound)\n",
        "      zcr = np.ravel(librosa.feature.zero_crossing_rate(y = y,frame_length=2048, hop_length=512))\n",
        "\n",
        "      zcr_mean.append(mean(zcr))\n",
        "      zcr_std.append(np.std(zcr))\n",
        "      zcr_kurt.append(kurtosis(zcr))\n",
        "      zcr_skew.append(skew(zcr))\n",
        "\n",
        "  df = pd.DataFrame()\n",
        "  df['zcr_mean'] = zcr_mean\n",
        "  df['zcr_std'] = zcr_std\n",
        "  df['zcr_kurt'] = zcr_kurt\n",
        "  df['zcr_skew'] = zcr_skew\n",
        "\n",
        "  return df"
      ]
    },
    {
      "cell_type": "code",
      "execution_count": null,
      "metadata": {
        "id": "SUA6jRLgedme"
      },
      "outputs": [],
      "source": [
        "def rms_stats(series):\n",
        "  rms_mean= []\n",
        "  rms_std = []\n",
        "  rms_kurt = []\n",
        "  rms_skew = []\n",
        "\n",
        "  for sound in series:\n",
        "      y,sr = librosa.load(sound)\n",
        "      rms = np.ravel(librosa.feature.rms(y = y,frame_length=2048, hop_length=512))\n",
        "\n",
        "      rms_mean.append(mean(rms))\n",
        "      rms_std.append(np.std(rms))\n",
        "      rms_kurt.append(kurtosis(rms))\n",
        "      rms_skew.append(skew(rms))\n",
        "\n",
        "  df = pd.DataFrame()\n",
        "  df['rms_mean'] = rms_mean\n",
        "  df['rms_std'] = rms_std\n",
        "  df['rms_kurt'] = rms_kurt\n",
        "  df['rms_skew'] = rms_skew\n",
        "\n",
        "  return df"
      ]
    },
    {
      "cell_type": "code",
      "execution_count": null,
      "metadata": {
        "id": "-A-Q2025edpA"
      },
      "outputs": [],
      "source": [
        "def mfcc_stats(series):\n",
        "  mfcc_mean= []\n",
        "  mfcc_std = []\n",
        "  mfcc_kurt = []\n",
        "  mfcc_skew = []\n",
        "\n",
        "  for sound in series:\n",
        "      y,sr = librosa.load(sound)\n",
        "      mfcc = np.ravel(librosa.feature.mfcc(y = y,sr=sr, hop_length=512))\n",
        "\n",
        "      mfcc_mean.append(mean(mfcc))\n",
        "      mfcc_std.append(np.std(mfcc))\n",
        "      mfcc_kurt.append(kurtosis(mfcc))\n",
        "      mfcc_skew.append(skew(mfcc))\n",
        "\n",
        "  df = pd.DataFrame()\n",
        "  df['mfcc_mean'] = mfcc_mean\n",
        "  df['mfcc_std'] = mfcc_std\n",
        "  df['mfcc_kurt'] = mfcc_kurt\n",
        "  df['mfcc_skew'] = mfcc_skew\n",
        "\n",
        "  return df"
      ]
    },
    {
      "cell_type": "code",
      "execution_count": null,
      "metadata": {
        "id": "KTd7pVqTedru"
      },
      "outputs": [],
      "source": [
        "def ms_stats(series):\n",
        "  ms_mean= []\n",
        "  ms_std = []\n",
        "  ms_kurt = []\n",
        "  ms_skew = []\n",
        "\n",
        "  for sound in series:\n",
        "      y,sr = librosa.load(sound)\n",
        "      ms = np.ravel(librosa.feature.melspectrogram(y = y,sr=sr, hop_length=512))\n",
        "\n",
        "      ms_mean.append(mean(ms))\n",
        "      ms_std.append(np.std(ms))\n",
        "      ms_kurt.append(kurtosis(ms))\n",
        "      ms_skew.append(skew(ms))\n",
        "\n",
        "  df = pd.DataFrame()\n",
        "  df['ms_mean'] = ms_mean\n",
        "  df['ms_std'] = ms_std\n",
        "  df['ms_kurt'] = ms_kurt\n",
        "  df['ms_skew'] = ms_skew\n",
        "\n",
        "  return df"
      ]
    },
    {
      "cell_type": "code",
      "execution_count": null,
      "metadata": {
        "id": "bAMsjd0KedvN"
      },
      "outputs": [],
      "source": [
        "def chroma_stft(series):\n",
        "  chroma_mean= []\n",
        "  chroma_std = []\n",
        "  chroma_kurt = []\n",
        "  chroma_skew = []\n",
        "\n",
        "  for sound in series:\n",
        "      y,sr = librosa.load(sound)\n",
        "      chroma = np.ravel(librosa.feature.chroma_stft(y = y,sr=sr, hop_length=512))\n",
        "\n",
        "      chroma_mean.append(mean(chroma))\n",
        "      chroma_std.append(np.std(chroma))\n",
        "      chroma_kurt.append(kurtosis(chroma))\n",
        "      chroma_skew.append(skew(chroma))\n",
        "\n",
        "  df = pd.DataFrame()\n",
        "  df['chroma_mean'] = chroma_mean\n",
        "  df['chroma_std'] = chroma_std\n",
        "  df['chroma_kurt'] = chroma_kurt\n",
        "  df['chroma_skew'] = chroma_skew\n",
        "\n",
        "  return df"
      ]
    },
    {
      "cell_type": "code",
      "execution_count": null,
      "metadata": {
        "id": "5d8xuAlmed0b"
      },
      "outputs": [],
      "source": [
        "def s_centroid(series):\n",
        "  centroid_mean= []\n",
        "  centroid_std = []\n",
        "  centroid_kurt = []\n",
        "  centroid_skew = []\n",
        "\n",
        "  for sound in series:\n",
        "      y,sr = librosa.load(sound)\n",
        "      centroid = np.ravel(librosa.feature.spectral_centroid(y = y,sr=sr, hop_length=512))\n",
        "\n",
        "      centroid_mean.append(mean(centroid))\n",
        "      centroid_std.append(np.std(centroid))\n",
        "      centroid_kurt.append(kurtosis(centroid))\n",
        "      centroid_skew.append(skew(centroid))\n",
        "\n",
        "  df = pd.DataFrame()\n",
        "  df['centroid_mean'] = centroid_mean\n",
        "  df['centroid_std'] = centroid_std\n",
        "  df['centroid_kurt'] = centroid_kurt\n",
        "  df['centroid_skew'] = centroid_skew\n",
        "\n",
        "  return df"
      ]
    },
    {
      "cell_type": "code",
      "execution_count": null,
      "metadata": {
        "id": "1h0BAeMngzZJ"
      },
      "outputs": [],
      "source": [
        "def s_bandwidth(series):\n",
        "  bandwidth_mean= []\n",
        "  bandwidth_std = []\n",
        "  bandwidth_kurt = []\n",
        "  bandwidth_skew = []\n",
        "\n",
        "  for sound in series:\n",
        "      y,sr = librosa.load(sound)\n",
        "      bandwidth = np.ravel(librosa.feature.spectral_bandwidth(y = y,sr=sr, hop_length=512))\n",
        "\n",
        "      bandwidth_mean.append(mean(bandwidth))\n",
        "      bandwidth_std.append(np.std(bandwidth))\n",
        "      bandwidth_kurt.append(kurtosis(bandwidth))\n",
        "      bandwidth_skew.append(skew(bandwidth))\n",
        "\n",
        "  df = pd.DataFrame()\n",
        "  df['bandwidth_mean'] = bandwidth_mean\n",
        "  df['bandwidth_std'] = bandwidth_std\n",
        "  df['bandwidth_kurt'] = bandwidth_kurt\n",
        "  df['bandwidth_skew'] = bandwidth_skew\n",
        "\n",
        "  return df"
      ]
    },
    {
      "cell_type": "code",
      "execution_count": null,
      "metadata": {
        "id": "CBzeNkr2gzbz"
      },
      "outputs": [],
      "source": [
        "def s_contrast(series):\n",
        "  contrast_mean= []\n",
        "  contrast_std = []\n",
        "  contrast_kurt = []\n",
        "  contrast_skew = []\n",
        "\n",
        "  for sound in series:\n",
        "      y,sr = librosa.load(sound)\n",
        "      contrast = np.ravel(librosa.feature.spectral_contrast(y = y,sr=sr, hop_length=512))\n",
        "\n",
        "      contrast_mean.append(mean(contrast))\n",
        "      contrast_std.append(np.std(contrast))\n",
        "      contrast_kurt.append(kurtosis(contrast))\n",
        "      contrast_skew.append(skew(contrast))\n",
        "\n",
        "  df = pd.DataFrame()\n",
        "  df['contrast_mean'] = contrast_mean\n",
        "  df['contrast_std'] = contrast_std\n",
        "  df['contrast_kurt'] = contrast_kurt\n",
        "  df['contrast_skew'] = contrast_skew\n",
        "\n",
        "  return df"
      ]
    },
    {
      "cell_type": "code",
      "execution_count": null,
      "metadata": {
        "id": "3xqXzlgpgzeu"
      },
      "outputs": [],
      "source": [
        "def s_flatness(series):\n",
        "  flatness_mean= []\n",
        "  flatness_std = []\n",
        "  flatness_kurt = []\n",
        "  flatness_skew = []\n",
        "\n",
        "  for sound in series:\n",
        "      y,sr = librosa.load(sound)\n",
        "      flatness = np.ravel(librosa.feature.spectral_flatness(y = y,hop_length=512))\n",
        "\n",
        "      flatness_mean.append(mean(flatness))\n",
        "      flatness_std.append(np.std(flatness))\n",
        "      flatness_kurt.append(kurtosis(flatness))\n",
        "      flatness_skew.append(skew(flatness))\n",
        "\n",
        "  df = pd.DataFrame()\n",
        "  df['flatness_mean'] = flatness_mean\n",
        "  df['flatness_std'] = flatness_std\n",
        "  df['flatness_kurt'] = flatness_kurt\n",
        "  df['flatness_skew'] = flatness_skew\n",
        "\n",
        "  return df"
      ]
    },
    {
      "cell_type": "code",
      "execution_count": null,
      "metadata": {
        "id": "onBPzSV2iB3T"
      },
      "outputs": [],
      "source": [
        "def s_rolloff(series):\n",
        "  rolloff_mean= []\n",
        "  rolloff_std = []\n",
        "  rolloff_kurt = []\n",
        "  rolloff_skew = []\n",
        "\n",
        "  for sound in series:\n",
        "      y,sr = librosa.load(sound)\n",
        "      rolloff = np.ravel(librosa.feature.spectral_rolloff(y = y,sr=sr, hop_length=512))\n",
        "\n",
        "      rolloff_mean.append(mean(rolloff))\n",
        "      rolloff_std.append(np.std(rolloff))\n",
        "      rolloff_kurt.append(kurtosis(rolloff))\n",
        "      rolloff_skew.append(skew(rolloff))\n",
        "\n",
        "  df = pd.DataFrame()\n",
        "  df['rolloff_mean'] = rolloff_mean\n",
        "  df['rolloff_std'] = rolloff_std\n",
        "  df['rolloff_kurt'] = rolloff_kurt\n",
        "  df['rolloff_skew'] = rolloff_skew\n",
        "\n",
        "  return df"
      ]
    },
    {
      "cell_type": "code",
      "execution_count": null,
      "metadata": {
        "id": "X-r2XKAkiB6r"
      },
      "outputs": [],
      "source": [
        "def tonnetz(series):\n",
        "  tonnetz_mean= []\n",
        "  tonnetz_std = []\n",
        "  tonnetz_kurt = []\n",
        "  tonnetz_skew = []\n",
        "\n",
        "  for sound in series:\n",
        "      y,sr = librosa.load(sound)\n",
        "      tonnetz = np.ravel(librosa.feature.tonnetz(y = y,sr=sr, hop_length=512))\n",
        "\n",
        "      tonnetz_mean.append(mean(tonnetz))\n",
        "      tonnetz_std.append(np.std(tonnetz))\n",
        "      tonnetz_kurt.append(kurtosis(tonnetz))\n",
        "      tonnetz_skew.append(skew(tonnetz))\n",
        "\n",
        "  df = pd.DataFrame()\n",
        "  df['tonnetz_mean'] = tonnetz_mean\n",
        "  df['tonnetz_std'] = tonnetz_std\n",
        "  df['tonnetz_kurt'] = tonnetz_kurt\n",
        "  df['tonnetz_skew'] = tonnetz_skew\n",
        "\n",
        "  return df"
      ]
    },
    {
      "cell_type": "code",
      "execution_count": null,
      "metadata": {
        "id": "OwC3G_cKuZhS"
      },
      "outputs": [],
      "source": [
        "zcr_df = zcr_stats(crema_df[\"Path\"])\n",
        "rms_stats_df = rms_stats(crema_df[\"Path\"])\n",
        "mfcc_stats_df = mfcc_stats(crema_df[\"Path\"])\n",
        "ms_stats_df = ms_stats(crema_df[\"Path\"])\n",
        "chroma_stft_df = chroma_stft(crema_df[\"Path\"])\n",
        "s_centroid_df = s_centroid(crema_df[\"Path\"])\n",
        "s_bandwidth_df = s_bandwidth(crema_df[\"Path\"])\n",
        "s_contrast_df = s_contrast(crema_df[\"Path\"])\n",
        "s_flatness_df = s_flatness(crema_df[\"Path\"])\n",
        "s_rolloff_df = s_rolloff(crema_df[\"Path\"])\n",
        "tonnetz_df = tonnetz(crema_df[\"Path\"])"
      ]
    },
    {
      "cell_type": "code",
      "execution_count": null,
      "metadata": {
        "id": "VR-ddxFRbFqo"
      },
      "outputs": [],
      "source": [
        "df = crema_df.join(zcr_df).join(rms_stats_df).join(mfcc_stats_df).join(ms_stats_df).join(chroma_stft_df).join(s_centroid_df).join(s_bandwidth_df).join(s_contrast_df).join(s_flatness_df).join(s_rolloff_df).join(tonnetz_df)\n",
        "df.to_csv(\"features.csv\")"
      ]
    },
    {
      "cell_type": "code",
      "source": [
        "df = pd.read_csv(\"/content/drive/MyDrive/features.csv\")\n",
        "df"
      ],
      "metadata": {
        "colab": {
          "base_uri": "https://localhost:8080/",
          "height": 505
        },
        "id": "Msc7R4EyKQKy",
        "outputId": "a168ba06-20a5-4caf-d76c-3ab82d6b045d"
      },
      "execution_count": null,
      "outputs": [
        {
          "output_type": "execute_result",
          "data": {
            "text/plain": [
              "      Unnamed: 0 Emotions                                               Path  \\\n",
              "0              0      sad  /content/drive/MyDrive/AudioMP3v2/1080_DFA_SAD...   \n",
              "1              1    happy  /content/drive/MyDrive/AudioMP3v2/1079_WSI_HAP...   \n",
              "2              2     fear  /content/drive/MyDrive/AudioMP3v2/1080_IOM_FEA...   \n",
              "3              3  disgust  /content/drive/MyDrive/AudioMP3v2/1079_MTI_DIS...   \n",
              "4              4      sad  /content/drive/MyDrive/AudioMP3v2/1079_ITS_SAD...   \n",
              "...          ...      ...                                                ...   \n",
              "7437        7437  disgust  /content/drive/MyDrive/AudioMP3v2/1006_DFA_DIS...   \n",
              "7438        7438  neutral  /content/drive/MyDrive/AudioMP3v2/1006_ITS_NEU...   \n",
              "7439        7439  neutral  /content/drive/MyDrive/AudioMP3v2/1005_TSI_NEU...   \n",
              "7440        7440  neutral  /content/drive/MyDrive/AudioMP3v2/1006_IWL_NEU...   \n",
              "7441        7441    angry  /content/drive/MyDrive/AudioMP3v2/1006_ITS_ANG...   \n",
              "\n",
              "      zcr_mean   zcr_std   zcr_kurt  zcr_skew  rms_mean   rms_std  rms_kurt  \\\n",
              "0     0.058597  0.039075  10.092867  2.913913  0.004268  0.002964  2.303705   \n",
              "1     0.141282  0.177162   4.041194  2.274098  0.027020  0.029180  0.635497   \n",
              "2     0.053000  0.044323  11.019199  3.338779  0.008650  0.007059 -0.465263   \n",
              "3     0.059155  0.043057  12.648307  3.331930  0.010371  0.009886  0.956121   \n",
              "4     0.060683  0.064136  11.595819  3.327559  0.004240  0.002723  1.364180   \n",
              "...        ...       ...        ...       ...       ...       ...       ...   \n",
              "7437  0.065058  0.044065   1.370692  1.463584  0.004337  0.002210  1.224493   \n",
              "7438  0.063244  0.072146   8.399253  2.946215  0.006195  0.004125  2.343503   \n",
              "7439  0.149267  0.181596   1.337789  1.661552  0.006114  0.004805  2.050908   \n",
              "7440  0.040957  0.021708  11.840795  3.039095  0.006493  0.004971  2.700125   \n",
              "7441  0.096971  0.122364  12.964580  3.573917  0.017062  0.016175  0.371263   \n",
              "\n",
              "      ...  flatness_kurt  flatness_skew  rolloff_mean  rolloff_std  \\\n",
              "0     ...       9.816680       3.144686   4128.515625  1185.345285   \n",
              "1     ...       9.754680       2.868367   4623.395852  2339.341742   \n",
              "2     ...      50.860959       7.080762   3386.742188  1640.241851   \n",
              "3     ...      43.529293       6.489832   3021.714020  1884.705750   \n",
              "4     ...      20.644408       4.460348   4240.124926  1679.539327   \n",
              "...   ...            ...            ...           ...          ...   \n",
              "7437  ...       8.053693       2.746098   3796.428283  1717.149235   \n",
              "7438  ...      10.821244       3.440228   3410.321045  2065.641166   \n",
              "7439  ...       1.488547       1.676104   4366.425900  2448.961197   \n",
              "7440  ...       3.527575       1.611960   2424.590101   936.493292   \n",
              "7441  ...      14.528523       3.729528   4123.840771  2370.706356   \n",
              "\n",
              "      rolloff_kurt  rolloff_skew  tonnetz_mean  tonnetz_std  tonnetz_kurt  \\\n",
              "0         0.258344      0.007245     -0.013781     0.057217      0.508432   \n",
              "1         0.164593      1.107801      0.000703     0.089135      3.234119   \n",
              "2         1.295247      0.715977     -0.018021     0.077130      2.561824   \n",
              "3         1.435774      0.977067     -0.008245     0.068835      1.217407   \n",
              "4         0.820712      0.536744     -0.014471     0.071169      3.638048   \n",
              "...            ...           ...           ...          ...           ...   \n",
              "7437      0.273205      0.819219     -0.011144     0.055595      1.164427   \n",
              "7438      2.299100      1.620358     -0.000028     0.075435      1.235398   \n",
              "7439     -0.639742      0.982347     -0.014854     0.074647      2.913644   \n",
              "7440     -0.364365      0.377911     -0.016569     0.072871      1.161313   \n",
              "7441     -0.058791      0.794111     -0.008028     0.089127      2.455633   \n",
              "\n",
              "      tonnetz_skew  \n",
              "0        -0.689256  \n",
              "1         0.946852  \n",
              "2         0.273514  \n",
              "3         0.092378  \n",
              "4        -0.010541  \n",
              "...            ...  \n",
              "7437     -0.904291  \n",
              "7438     -0.351864  \n",
              "7439      0.469798  \n",
              "7440     -0.613531  \n",
              "7441     -0.532216  \n",
              "\n",
              "[7442 rows x 47 columns]"
            ],
            "text/html": [
              "\n",
              "\n",
              "  <div id=\"df-a4abbd37-2f3e-4722-8646-7cf60f999921\">\n",
              "    <div class=\"colab-df-container\">\n",
              "      <div>\n",
              "<style scoped>\n",
              "    .dataframe tbody tr th:only-of-type {\n",
              "        vertical-align: middle;\n",
              "    }\n",
              "\n",
              "    .dataframe tbody tr th {\n",
              "        vertical-align: top;\n",
              "    }\n",
              "\n",
              "    .dataframe thead th {\n",
              "        text-align: right;\n",
              "    }\n",
              "</style>\n",
              "<table border=\"1\" class=\"dataframe\">\n",
              "  <thead>\n",
              "    <tr style=\"text-align: right;\">\n",
              "      <th></th>\n",
              "      <th>Unnamed: 0</th>\n",
              "      <th>Emotions</th>\n",
              "      <th>Path</th>\n",
              "      <th>zcr_mean</th>\n",
              "      <th>zcr_std</th>\n",
              "      <th>zcr_kurt</th>\n",
              "      <th>zcr_skew</th>\n",
              "      <th>rms_mean</th>\n",
              "      <th>rms_std</th>\n",
              "      <th>rms_kurt</th>\n",
              "      <th>...</th>\n",
              "      <th>flatness_kurt</th>\n",
              "      <th>flatness_skew</th>\n",
              "      <th>rolloff_mean</th>\n",
              "      <th>rolloff_std</th>\n",
              "      <th>rolloff_kurt</th>\n",
              "      <th>rolloff_skew</th>\n",
              "      <th>tonnetz_mean</th>\n",
              "      <th>tonnetz_std</th>\n",
              "      <th>tonnetz_kurt</th>\n",
              "      <th>tonnetz_skew</th>\n",
              "    </tr>\n",
              "  </thead>\n",
              "  <tbody>\n",
              "    <tr>\n",
              "      <th>0</th>\n",
              "      <td>0</td>\n",
              "      <td>sad</td>\n",
              "      <td>/content/drive/MyDrive/AudioMP3v2/1080_DFA_SAD...</td>\n",
              "      <td>0.058597</td>\n",
              "      <td>0.039075</td>\n",
              "      <td>10.092867</td>\n",
              "      <td>2.913913</td>\n",
              "      <td>0.004268</td>\n",
              "      <td>0.002964</td>\n",
              "      <td>2.303705</td>\n",
              "      <td>...</td>\n",
              "      <td>9.816680</td>\n",
              "      <td>3.144686</td>\n",
              "      <td>4128.515625</td>\n",
              "      <td>1185.345285</td>\n",
              "      <td>0.258344</td>\n",
              "      <td>0.007245</td>\n",
              "      <td>-0.013781</td>\n",
              "      <td>0.057217</td>\n",
              "      <td>0.508432</td>\n",
              "      <td>-0.689256</td>\n",
              "    </tr>\n",
              "    <tr>\n",
              "      <th>1</th>\n",
              "      <td>1</td>\n",
              "      <td>happy</td>\n",
              "      <td>/content/drive/MyDrive/AudioMP3v2/1079_WSI_HAP...</td>\n",
              "      <td>0.141282</td>\n",
              "      <td>0.177162</td>\n",
              "      <td>4.041194</td>\n",
              "      <td>2.274098</td>\n",
              "      <td>0.027020</td>\n",
              "      <td>0.029180</td>\n",
              "      <td>0.635497</td>\n",
              "      <td>...</td>\n",
              "      <td>9.754680</td>\n",
              "      <td>2.868367</td>\n",
              "      <td>4623.395852</td>\n",
              "      <td>2339.341742</td>\n",
              "      <td>0.164593</td>\n",
              "      <td>1.107801</td>\n",
              "      <td>0.000703</td>\n",
              "      <td>0.089135</td>\n",
              "      <td>3.234119</td>\n",
              "      <td>0.946852</td>\n",
              "    </tr>\n",
              "    <tr>\n",
              "      <th>2</th>\n",
              "      <td>2</td>\n",
              "      <td>fear</td>\n",
              "      <td>/content/drive/MyDrive/AudioMP3v2/1080_IOM_FEA...</td>\n",
              "      <td>0.053000</td>\n",
              "      <td>0.044323</td>\n",
              "      <td>11.019199</td>\n",
              "      <td>3.338779</td>\n",
              "      <td>0.008650</td>\n",
              "      <td>0.007059</td>\n",
              "      <td>-0.465263</td>\n",
              "      <td>...</td>\n",
              "      <td>50.860959</td>\n",
              "      <td>7.080762</td>\n",
              "      <td>3386.742188</td>\n",
              "      <td>1640.241851</td>\n",
              "      <td>1.295247</td>\n",
              "      <td>0.715977</td>\n",
              "      <td>-0.018021</td>\n",
              "      <td>0.077130</td>\n",
              "      <td>2.561824</td>\n",
              "      <td>0.273514</td>\n",
              "    </tr>\n",
              "    <tr>\n",
              "      <th>3</th>\n",
              "      <td>3</td>\n",
              "      <td>disgust</td>\n",
              "      <td>/content/drive/MyDrive/AudioMP3v2/1079_MTI_DIS...</td>\n",
              "      <td>0.059155</td>\n",
              "      <td>0.043057</td>\n",
              "      <td>12.648307</td>\n",
              "      <td>3.331930</td>\n",
              "      <td>0.010371</td>\n",
              "      <td>0.009886</td>\n",
              "      <td>0.956121</td>\n",
              "      <td>...</td>\n",
              "      <td>43.529293</td>\n",
              "      <td>6.489832</td>\n",
              "      <td>3021.714020</td>\n",
              "      <td>1884.705750</td>\n",
              "      <td>1.435774</td>\n",
              "      <td>0.977067</td>\n",
              "      <td>-0.008245</td>\n",
              "      <td>0.068835</td>\n",
              "      <td>1.217407</td>\n",
              "      <td>0.092378</td>\n",
              "    </tr>\n",
              "    <tr>\n",
              "      <th>4</th>\n",
              "      <td>4</td>\n",
              "      <td>sad</td>\n",
              "      <td>/content/drive/MyDrive/AudioMP3v2/1079_ITS_SAD...</td>\n",
              "      <td>0.060683</td>\n",
              "      <td>0.064136</td>\n",
              "      <td>11.595819</td>\n",
              "      <td>3.327559</td>\n",
              "      <td>0.004240</td>\n",
              "      <td>0.002723</td>\n",
              "      <td>1.364180</td>\n",
              "      <td>...</td>\n",
              "      <td>20.644408</td>\n",
              "      <td>4.460348</td>\n",
              "      <td>4240.124926</td>\n",
              "      <td>1679.539327</td>\n",
              "      <td>0.820712</td>\n",
              "      <td>0.536744</td>\n",
              "      <td>-0.014471</td>\n",
              "      <td>0.071169</td>\n",
              "      <td>3.638048</td>\n",
              "      <td>-0.010541</td>\n",
              "    </tr>\n",
              "    <tr>\n",
              "      <th>...</th>\n",
              "      <td>...</td>\n",
              "      <td>...</td>\n",
              "      <td>...</td>\n",
              "      <td>...</td>\n",
              "      <td>...</td>\n",
              "      <td>...</td>\n",
              "      <td>...</td>\n",
              "      <td>...</td>\n",
              "      <td>...</td>\n",
              "      <td>...</td>\n",
              "      <td>...</td>\n",
              "      <td>...</td>\n",
              "      <td>...</td>\n",
              "      <td>...</td>\n",
              "      <td>...</td>\n",
              "      <td>...</td>\n",
              "      <td>...</td>\n",
              "      <td>...</td>\n",
              "      <td>...</td>\n",
              "      <td>...</td>\n",
              "      <td>...</td>\n",
              "    </tr>\n",
              "    <tr>\n",
              "      <th>7437</th>\n",
              "      <td>7437</td>\n",
              "      <td>disgust</td>\n",
              "      <td>/content/drive/MyDrive/AudioMP3v2/1006_DFA_DIS...</td>\n",
              "      <td>0.065058</td>\n",
              "      <td>0.044065</td>\n",
              "      <td>1.370692</td>\n",
              "      <td>1.463584</td>\n",
              "      <td>0.004337</td>\n",
              "      <td>0.002210</td>\n",
              "      <td>1.224493</td>\n",
              "      <td>...</td>\n",
              "      <td>8.053693</td>\n",
              "      <td>2.746098</td>\n",
              "      <td>3796.428283</td>\n",
              "      <td>1717.149235</td>\n",
              "      <td>0.273205</td>\n",
              "      <td>0.819219</td>\n",
              "      <td>-0.011144</td>\n",
              "      <td>0.055595</td>\n",
              "      <td>1.164427</td>\n",
              "      <td>-0.904291</td>\n",
              "    </tr>\n",
              "    <tr>\n",
              "      <th>7438</th>\n",
              "      <td>7438</td>\n",
              "      <td>neutral</td>\n",
              "      <td>/content/drive/MyDrive/AudioMP3v2/1006_ITS_NEU...</td>\n",
              "      <td>0.063244</td>\n",
              "      <td>0.072146</td>\n",
              "      <td>8.399253</td>\n",
              "      <td>2.946215</td>\n",
              "      <td>0.006195</td>\n",
              "      <td>0.004125</td>\n",
              "      <td>2.343503</td>\n",
              "      <td>...</td>\n",
              "      <td>10.821244</td>\n",
              "      <td>3.440228</td>\n",
              "      <td>3410.321045</td>\n",
              "      <td>2065.641166</td>\n",
              "      <td>2.299100</td>\n",
              "      <td>1.620358</td>\n",
              "      <td>-0.000028</td>\n",
              "      <td>0.075435</td>\n",
              "      <td>1.235398</td>\n",
              "      <td>-0.351864</td>\n",
              "    </tr>\n",
              "    <tr>\n",
              "      <th>7439</th>\n",
              "      <td>7439</td>\n",
              "      <td>neutral</td>\n",
              "      <td>/content/drive/MyDrive/AudioMP3v2/1005_TSI_NEU...</td>\n",
              "      <td>0.149267</td>\n",
              "      <td>0.181596</td>\n",
              "      <td>1.337789</td>\n",
              "      <td>1.661552</td>\n",
              "      <td>0.006114</td>\n",
              "      <td>0.004805</td>\n",
              "      <td>2.050908</td>\n",
              "      <td>...</td>\n",
              "      <td>1.488547</td>\n",
              "      <td>1.676104</td>\n",
              "      <td>4366.425900</td>\n",
              "      <td>2448.961197</td>\n",
              "      <td>-0.639742</td>\n",
              "      <td>0.982347</td>\n",
              "      <td>-0.014854</td>\n",
              "      <td>0.074647</td>\n",
              "      <td>2.913644</td>\n",
              "      <td>0.469798</td>\n",
              "    </tr>\n",
              "    <tr>\n",
              "      <th>7440</th>\n",
              "      <td>7440</td>\n",
              "      <td>neutral</td>\n",
              "      <td>/content/drive/MyDrive/AudioMP3v2/1006_IWL_NEU...</td>\n",
              "      <td>0.040957</td>\n",
              "      <td>0.021708</td>\n",
              "      <td>11.840795</td>\n",
              "      <td>3.039095</td>\n",
              "      <td>0.006493</td>\n",
              "      <td>0.004971</td>\n",
              "      <td>2.700125</td>\n",
              "      <td>...</td>\n",
              "      <td>3.527575</td>\n",
              "      <td>1.611960</td>\n",
              "      <td>2424.590101</td>\n",
              "      <td>936.493292</td>\n",
              "      <td>-0.364365</td>\n",
              "      <td>0.377911</td>\n",
              "      <td>-0.016569</td>\n",
              "      <td>0.072871</td>\n",
              "      <td>1.161313</td>\n",
              "      <td>-0.613531</td>\n",
              "    </tr>\n",
              "    <tr>\n",
              "      <th>7441</th>\n",
              "      <td>7441</td>\n",
              "      <td>angry</td>\n",
              "      <td>/content/drive/MyDrive/AudioMP3v2/1006_ITS_ANG...</td>\n",
              "      <td>0.096971</td>\n",
              "      <td>0.122364</td>\n",
              "      <td>12.964580</td>\n",
              "      <td>3.573917</td>\n",
              "      <td>0.017062</td>\n",
              "      <td>0.016175</td>\n",
              "      <td>0.371263</td>\n",
              "      <td>...</td>\n",
              "      <td>14.528523</td>\n",
              "      <td>3.729528</td>\n",
              "      <td>4123.840771</td>\n",
              "      <td>2370.706356</td>\n",
              "      <td>-0.058791</td>\n",
              "      <td>0.794111</td>\n",
              "      <td>-0.008028</td>\n",
              "      <td>0.089127</td>\n",
              "      <td>2.455633</td>\n",
              "      <td>-0.532216</td>\n",
              "    </tr>\n",
              "  </tbody>\n",
              "</table>\n",
              "<p>7442 rows × 47 columns</p>\n",
              "</div>\n",
              "      <button class=\"colab-df-convert\" onclick=\"convertToInteractive('df-a4abbd37-2f3e-4722-8646-7cf60f999921')\"\n",
              "              title=\"Convert this dataframe to an interactive table.\"\n",
              "              style=\"display:none;\">\n",
              "\n",
              "  <svg xmlns=\"http://www.w3.org/2000/svg\" height=\"24px\"viewBox=\"0 0 24 24\"\n",
              "       width=\"24px\">\n",
              "    <path d=\"M0 0h24v24H0V0z\" fill=\"none\"/>\n",
              "    <path d=\"M18.56 5.44l.94 2.06.94-2.06 2.06-.94-2.06-.94-.94-2.06-.94 2.06-2.06.94zm-11 1L8.5 8.5l.94-2.06 2.06-.94-2.06-.94L8.5 2.5l-.94 2.06-2.06.94zm10 10l.94 2.06.94-2.06 2.06-.94-2.06-.94-.94-2.06-.94 2.06-2.06.94z\"/><path d=\"M17.41 7.96l-1.37-1.37c-.4-.4-.92-.59-1.43-.59-.52 0-1.04.2-1.43.59L10.3 9.45l-7.72 7.72c-.78.78-.78 2.05 0 2.83L4 21.41c.39.39.9.59 1.41.59.51 0 1.02-.2 1.41-.59l7.78-7.78 2.81-2.81c.8-.78.8-2.07 0-2.86zM5.41 20L4 18.59l7.72-7.72 1.47 1.35L5.41 20z\"/>\n",
              "  </svg>\n",
              "      </button>\n",
              "\n",
              "\n",
              "\n",
              "    <div id=\"df-a37c705c-064c-4e9d-a49e-1c07b4989302\">\n",
              "      <button class=\"colab-df-quickchart\" onclick=\"quickchart('df-a37c705c-064c-4e9d-a49e-1c07b4989302')\"\n",
              "              title=\"Suggest charts.\"\n",
              "              style=\"display:none;\">\n",
              "\n",
              "<svg xmlns=\"http://www.w3.org/2000/svg\" height=\"24px\"viewBox=\"0 0 24 24\"\n",
              "     width=\"24px\">\n",
              "    <g>\n",
              "        <path d=\"M19 3H5c-1.1 0-2 .9-2 2v14c0 1.1.9 2 2 2h14c1.1 0 2-.9 2-2V5c0-1.1-.9-2-2-2zM9 17H7v-7h2v7zm4 0h-2V7h2v10zm4 0h-2v-4h2v4z\"/>\n",
              "    </g>\n",
              "</svg>\n",
              "      </button>\n",
              "    </div>\n",
              "\n",
              "<style>\n",
              "  .colab-df-quickchart {\n",
              "    background-color: #E8F0FE;\n",
              "    border: none;\n",
              "    border-radius: 50%;\n",
              "    cursor: pointer;\n",
              "    display: none;\n",
              "    fill: #1967D2;\n",
              "    height: 32px;\n",
              "    padding: 0 0 0 0;\n",
              "    width: 32px;\n",
              "  }\n",
              "\n",
              "  .colab-df-quickchart:hover {\n",
              "    background-color: #E2EBFA;\n",
              "    box-shadow: 0px 1px 2px rgba(60, 64, 67, 0.3), 0px 1px 3px 1px rgba(60, 64, 67, 0.15);\n",
              "    fill: #174EA6;\n",
              "  }\n",
              "\n",
              "  [theme=dark] .colab-df-quickchart {\n",
              "    background-color: #3B4455;\n",
              "    fill: #D2E3FC;\n",
              "  }\n",
              "\n",
              "  [theme=dark] .colab-df-quickchart:hover {\n",
              "    background-color: #434B5C;\n",
              "    box-shadow: 0px 1px 3px 1px rgba(0, 0, 0, 0.15);\n",
              "    filter: drop-shadow(0px 1px 2px rgba(0, 0, 0, 0.3));\n",
              "    fill: #FFFFFF;\n",
              "  }\n",
              "</style>\n",
              "\n",
              "    <script>\n",
              "      async function quickchart(key) {\n",
              "        const containerElement = document.querySelector('#' + key);\n",
              "        const charts = await google.colab.kernel.invokeFunction(\n",
              "            'suggestCharts', [key], {});\n",
              "      }\n",
              "    </script>\n",
              "\n",
              "      <script>\n",
              "\n",
              "function displayQuickchartButton(domScope) {\n",
              "  let quickchartButtonEl =\n",
              "    domScope.querySelector('#df-a37c705c-064c-4e9d-a49e-1c07b4989302 button.colab-df-quickchart');\n",
              "  quickchartButtonEl.style.display =\n",
              "    google.colab.kernel.accessAllowed ? 'block' : 'none';\n",
              "}\n",
              "\n",
              "        displayQuickchartButton(document);\n",
              "      </script>\n",
              "      <style>\n",
              "    .colab-df-container {\n",
              "      display:flex;\n",
              "      flex-wrap:wrap;\n",
              "      gap: 12px;\n",
              "    }\n",
              "\n",
              "    .colab-df-convert {\n",
              "      background-color: #E8F0FE;\n",
              "      border: none;\n",
              "      border-radius: 50%;\n",
              "      cursor: pointer;\n",
              "      display: none;\n",
              "      fill: #1967D2;\n",
              "      height: 32px;\n",
              "      padding: 0 0 0 0;\n",
              "      width: 32px;\n",
              "    }\n",
              "\n",
              "    .colab-df-convert:hover {\n",
              "      background-color: #E2EBFA;\n",
              "      box-shadow: 0px 1px 2px rgba(60, 64, 67, 0.3), 0px 1px 3px 1px rgba(60, 64, 67, 0.15);\n",
              "      fill: #174EA6;\n",
              "    }\n",
              "\n",
              "    [theme=dark] .colab-df-convert {\n",
              "      background-color: #3B4455;\n",
              "      fill: #D2E3FC;\n",
              "    }\n",
              "\n",
              "    [theme=dark] .colab-df-convert:hover {\n",
              "      background-color: #434B5C;\n",
              "      box-shadow: 0px 1px 3px 1px rgba(0, 0, 0, 0.15);\n",
              "      filter: drop-shadow(0px 1px 2px rgba(0, 0, 0, 0.3));\n",
              "      fill: #FFFFFF;\n",
              "    }\n",
              "  </style>\n",
              "\n",
              "      <script>\n",
              "        const buttonEl =\n",
              "          document.querySelector('#df-a4abbd37-2f3e-4722-8646-7cf60f999921 button.colab-df-convert');\n",
              "        buttonEl.style.display =\n",
              "          google.colab.kernel.accessAllowed ? 'block' : 'none';\n",
              "\n",
              "        async function convertToInteractive(key) {\n",
              "          const element = document.querySelector('#df-a4abbd37-2f3e-4722-8646-7cf60f999921');\n",
              "          const dataTable =\n",
              "            await google.colab.kernel.invokeFunction('convertToInteractive',\n",
              "                                                     [key], {});\n",
              "          if (!dataTable) return;\n",
              "\n",
              "          const docLinkHtml = 'Like what you see? Visit the ' +\n",
              "            '<a target=\"_blank\" href=https://colab.research.google.com/notebooks/data_table.ipynb>data table notebook</a>'\n",
              "            + ' to learn more about interactive tables.';\n",
              "          element.innerHTML = '';\n",
              "          dataTable['output_type'] = 'display_data';\n",
              "          await google.colab.output.renderOutput(dataTable, element);\n",
              "          const docLink = document.createElement('div');\n",
              "          docLink.innerHTML = docLinkHtml;\n",
              "          element.appendChild(docLink);\n",
              "        }\n",
              "      </script>\n",
              "    </div>\n",
              "  </div>\n"
            ]
          },
          "metadata": {},
          "execution_count": 7
        }
      ]
    },
    {
      "cell_type": "code",
      "source": [
        "df.dropna(inplace=True)"
      ],
      "metadata": {
        "id": "8fs1e2eL26Yg"
      },
      "execution_count": null,
      "outputs": []
    },
    {
      "cell_type": "code",
      "source": [
        "X = df.drop(columns=[\"Emotions\",\"Path\",\"Unnamed: 0\"],axis=1)\n",
        "y = df[\"Emotions\"]"
      ],
      "metadata": {
        "id": "ZOyO7dJX4wrM"
      },
      "execution_count": null,
      "outputs": []
    },
    {
      "cell_type": "code",
      "source": [
        "from sklearn.preprocessing import StandardScaler, LabelEncoder\n",
        "\n",
        "encoder = LabelEncoder()\n",
        "y = encoder.fit_transform(y)"
      ],
      "metadata": {
        "id": "em0t4DWC83Wp"
      },
      "execution_count": null,
      "outputs": []
    },
    {
      "cell_type": "code",
      "source": [
        "from sklearn.model_selection import train_test_split\n",
        "\n",
        "X_train, X_test, y_train, y_test = train_test_split(X, y,test_size = 0.25, random_state = 42)\n"
      ],
      "metadata": {
        "id": "mauUF-J05FnL"
      },
      "execution_count": null,
      "outputs": []
    },
    {
      "cell_type": "code",
      "source": [
        "scaler = StandardScaler()\n",
        "X_train = scaler.fit_transform(X_train)\n",
        "X_test = scaler.transform(X_test)"
      ],
      "metadata": {
        "id": "u_ey2J32lEV5"
      },
      "execution_count": null,
      "outputs": []
    },
    {
      "cell_type": "code",
      "source": [
        ">>> from sklearn.linear_model import LinearRegression\n",
        "\n",
        "lr = LinearRegression()\n",
        "\n",
        "lr.fit(X_train, y_train)\n",
        "print('train: {}'.format(lr.score(X_train,y_train)))\n",
        "print('test: {}:'.format( lr.score(X_test,y_test)))"
      ],
      "metadata": {
        "colab": {
          "base_uri": "https://localhost:8080/"
        },
        "id": "lG_kR_3Ow8DM",
        "outputId": "fc9c022e-0146-4850-adc5-0421d6b82b93"
      },
      "execution_count": null,
      "outputs": [
        {
          "output_type": "stream",
          "name": "stdout",
          "text": [
            "train: 0.324432114503612\n",
            "test: 0.3140466891752731:\n"
          ]
        }
      ]
    },
    {
      "cell_type": "code",
      "source": [
        "from sklearn.ensemble import RandomForestClassifier\n",
        "rf = RandomForestClassifier(random_state=42, n_jobs=-1)\n",
        "params = {\n",
        "    'max_depth': [2,3,5,10,20],\n",
        "    'min_samples_leaf': [5,10,20,50,100,200],\n",
        "    'n_estimators': [10,25,30,50,100,200]\n",
        "}\n",
        "from sklearn.model_selection import GridSearchCV\n",
        "\n",
        "grid_search = GridSearchCV(estimator=rf,\n",
        "                           param_grid=params,\n",
        "                           cv = 4,\n",
        "                           n_jobs=-1, verbose=1, scoring=\"accuracy\")\n",
        "\n",
        "grid_search.fit(X_train, y_train)\n"
      ],
      "metadata": {
        "colab": {
          "base_uri": "https://localhost:8080/",
          "height": 133
        },
        "id": "aFsnTrpkxosK",
        "outputId": "c4348497-b91f-432a-9358-7f3688e5f986"
      },
      "execution_count": null,
      "outputs": [
        {
          "output_type": "stream",
          "name": "stdout",
          "text": [
            "Fitting 4 folds for each of 180 candidates, totalling 720 fits\n"
          ]
        },
        {
          "output_type": "execute_result",
          "data": {
            "text/plain": [
              "GridSearchCV(cv=4, estimator=RandomForestClassifier(n_jobs=-1, random_state=42),\n",
              "             n_jobs=-1,\n",
              "             param_grid={'max_depth': [2, 3, 5, 10, 20],\n",
              "                         'min_samples_leaf': [5, 10, 20, 50, 100, 200],\n",
              "                         'n_estimators': [10, 25, 30, 50, 100, 200]},\n",
              "             scoring='accuracy', verbose=1)"
            ],
            "text/html": [
              "<style>#sk-container-id-4 {color: black;background-color: white;}#sk-container-id-4 pre{padding: 0;}#sk-container-id-4 div.sk-toggleable {background-color: white;}#sk-container-id-4 label.sk-toggleable__label {cursor: pointer;display: block;width: 100%;margin-bottom: 0;padding: 0.3em;box-sizing: border-box;text-align: center;}#sk-container-id-4 label.sk-toggleable__label-arrow:before {content: \"▸\";float: left;margin-right: 0.25em;color: #696969;}#sk-container-id-4 label.sk-toggleable__label-arrow:hover:before {color: black;}#sk-container-id-4 div.sk-estimator:hover label.sk-toggleable__label-arrow:before {color: black;}#sk-container-id-4 div.sk-toggleable__content {max-height: 0;max-width: 0;overflow: hidden;text-align: left;background-color: #f0f8ff;}#sk-container-id-4 div.sk-toggleable__content pre {margin: 0.2em;color: black;border-radius: 0.25em;background-color: #f0f8ff;}#sk-container-id-4 input.sk-toggleable__control:checked~div.sk-toggleable__content {max-height: 200px;max-width: 100%;overflow: auto;}#sk-container-id-4 input.sk-toggleable__control:checked~label.sk-toggleable__label-arrow:before {content: \"▾\";}#sk-container-id-4 div.sk-estimator input.sk-toggleable__control:checked~label.sk-toggleable__label {background-color: #d4ebff;}#sk-container-id-4 div.sk-label input.sk-toggleable__control:checked~label.sk-toggleable__label {background-color: #d4ebff;}#sk-container-id-4 input.sk-hidden--visually {border: 0;clip: rect(1px 1px 1px 1px);clip: rect(1px, 1px, 1px, 1px);height: 1px;margin: -1px;overflow: hidden;padding: 0;position: absolute;width: 1px;}#sk-container-id-4 div.sk-estimator {font-family: monospace;background-color: #f0f8ff;border: 1px dotted black;border-radius: 0.25em;box-sizing: border-box;margin-bottom: 0.5em;}#sk-container-id-4 div.sk-estimator:hover {background-color: #d4ebff;}#sk-container-id-4 div.sk-parallel-item::after {content: \"\";width: 100%;border-bottom: 1px solid gray;flex-grow: 1;}#sk-container-id-4 div.sk-label:hover label.sk-toggleable__label {background-color: #d4ebff;}#sk-container-id-4 div.sk-serial::before {content: \"\";position: absolute;border-left: 1px solid gray;box-sizing: border-box;top: 0;bottom: 0;left: 50%;z-index: 0;}#sk-container-id-4 div.sk-serial {display: flex;flex-direction: column;align-items: center;background-color: white;padding-right: 0.2em;padding-left: 0.2em;position: relative;}#sk-container-id-4 div.sk-item {position: relative;z-index: 1;}#sk-container-id-4 div.sk-parallel {display: flex;align-items: stretch;justify-content: center;background-color: white;position: relative;}#sk-container-id-4 div.sk-item::before, #sk-container-id-4 div.sk-parallel-item::before {content: \"\";position: absolute;border-left: 1px solid gray;box-sizing: border-box;top: 0;bottom: 0;left: 50%;z-index: -1;}#sk-container-id-4 div.sk-parallel-item {display: flex;flex-direction: column;z-index: 1;position: relative;background-color: white;}#sk-container-id-4 div.sk-parallel-item:first-child::after {align-self: flex-end;width: 50%;}#sk-container-id-4 div.sk-parallel-item:last-child::after {align-self: flex-start;width: 50%;}#sk-container-id-4 div.sk-parallel-item:only-child::after {width: 0;}#sk-container-id-4 div.sk-dashed-wrapped {border: 1px dashed gray;margin: 0 0.4em 0.5em 0.4em;box-sizing: border-box;padding-bottom: 0.4em;background-color: white;}#sk-container-id-4 div.sk-label label {font-family: monospace;font-weight: bold;display: inline-block;line-height: 1.2em;}#sk-container-id-4 div.sk-label-container {text-align: center;}#sk-container-id-4 div.sk-container {/* jupyter's `normalize.less` sets `[hidden] { display: none; }` but bootstrap.min.css set `[hidden] { display: none !important; }` so we also need the `!important` here to be able to override the default hidden behavior on the sphinx rendered scikit-learn.org. See: https://github.com/scikit-learn/scikit-learn/issues/21755 */display: inline-block !important;position: relative;}#sk-container-id-4 div.sk-text-repr-fallback {display: none;}</style><div id=\"sk-container-id-4\" class=\"sk-top-container\"><div class=\"sk-text-repr-fallback\"><pre>GridSearchCV(cv=4, estimator=RandomForestClassifier(n_jobs=-1, random_state=42),\n",
              "             n_jobs=-1,\n",
              "             param_grid={&#x27;max_depth&#x27;: [2, 3, 5, 10, 20],\n",
              "                         &#x27;min_samples_leaf&#x27;: [5, 10, 20, 50, 100, 200],\n",
              "                         &#x27;n_estimators&#x27;: [10, 25, 30, 50, 100, 200]},\n",
              "             scoring=&#x27;accuracy&#x27;, verbose=1)</pre><b>In a Jupyter environment, please rerun this cell to show the HTML representation or trust the notebook. <br />On GitHub, the HTML representation is unable to render, please try loading this page with nbviewer.org.</b></div><div class=\"sk-container\" hidden><div class=\"sk-item sk-dashed-wrapped\"><div class=\"sk-label-container\"><div class=\"sk-label sk-toggleable\"><input class=\"sk-toggleable__control sk-hidden--visually\" id=\"sk-estimator-id-8\" type=\"checkbox\" ><label for=\"sk-estimator-id-8\" class=\"sk-toggleable__label sk-toggleable__label-arrow\">GridSearchCV</label><div class=\"sk-toggleable__content\"><pre>GridSearchCV(cv=4, estimator=RandomForestClassifier(n_jobs=-1, random_state=42),\n",
              "             n_jobs=-1,\n",
              "             param_grid={&#x27;max_depth&#x27;: [2, 3, 5, 10, 20],\n",
              "                         &#x27;min_samples_leaf&#x27;: [5, 10, 20, 50, 100, 200],\n",
              "                         &#x27;n_estimators&#x27;: [10, 25, 30, 50, 100, 200]},\n",
              "             scoring=&#x27;accuracy&#x27;, verbose=1)</pre></div></div></div><div class=\"sk-parallel\"><div class=\"sk-parallel-item\"><div class=\"sk-item\"><div class=\"sk-label-container\"><div class=\"sk-label sk-toggleable\"><input class=\"sk-toggleable__control sk-hidden--visually\" id=\"sk-estimator-id-9\" type=\"checkbox\" ><label for=\"sk-estimator-id-9\" class=\"sk-toggleable__label sk-toggleable__label-arrow\">estimator: RandomForestClassifier</label><div class=\"sk-toggleable__content\"><pre>RandomForestClassifier(n_jobs=-1, random_state=42)</pre></div></div></div><div class=\"sk-serial\"><div class=\"sk-item\"><div class=\"sk-estimator sk-toggleable\"><input class=\"sk-toggleable__control sk-hidden--visually\" id=\"sk-estimator-id-10\" type=\"checkbox\" ><label for=\"sk-estimator-id-10\" class=\"sk-toggleable__label sk-toggleable__label-arrow\">RandomForestClassifier</label><div class=\"sk-toggleable__content\"><pre>RandomForestClassifier(n_jobs=-1, random_state=42)</pre></div></div></div></div></div></div></div></div></div></div>"
            ]
          },
          "metadata": {},
          "execution_count": 182
        }
      ]
    },
    {
      "cell_type": "code",
      "source": [
        "grid_search.best_score_\n"
      ],
      "metadata": {
        "colab": {
          "base_uri": "https://localhost:8080/"
        },
        "id": "EefRL59rytXx",
        "outputId": "0e420a41-751f-4c06-aac4-7fce5145d556"
      },
      "execution_count": null,
      "outputs": [
        {
          "output_type": "execute_result",
          "data": {
            "text/plain": [
              "0.4576210306053214"
            ]
          },
          "metadata": {},
          "execution_count": 183
        }
      ]
    },
    {
      "cell_type": "code",
      "source": [
        "from sklearn.ensemble import GradientBoostingClassifier\n",
        "\n",
        "\n",
        "gbc=GradientBoostingClassifier(n_estimators=500,learning_rate=0.05,random_state=100)\n",
        "\n",
        "# Fit train data to GBC\n",
        "\n",
        "gbc.fit(X_train,y_train)"
      ],
      "metadata": {
        "colab": {
          "base_uri": "https://localhost:8080/",
          "height": 91
        },
        "id": "4GIB1rTc0KY5",
        "outputId": "e182e28c-6815-41ad-ab18-cedbda324e3f"
      },
      "execution_count": null,
      "outputs": [
        {
          "output_type": "execute_result",
          "data": {
            "text/plain": [
              "GradientBoostingClassifier(learning_rate=0.05, n_estimators=500,\n",
              "                           random_state=100)"
            ],
            "text/html": [
              "<style>#sk-container-id-5 {color: black;background-color: white;}#sk-container-id-5 pre{padding: 0;}#sk-container-id-5 div.sk-toggleable {background-color: white;}#sk-container-id-5 label.sk-toggleable__label {cursor: pointer;display: block;width: 100%;margin-bottom: 0;padding: 0.3em;box-sizing: border-box;text-align: center;}#sk-container-id-5 label.sk-toggleable__label-arrow:before {content: \"▸\";float: left;margin-right: 0.25em;color: #696969;}#sk-container-id-5 label.sk-toggleable__label-arrow:hover:before {color: black;}#sk-container-id-5 div.sk-estimator:hover label.sk-toggleable__label-arrow:before {color: black;}#sk-container-id-5 div.sk-toggleable__content {max-height: 0;max-width: 0;overflow: hidden;text-align: left;background-color: #f0f8ff;}#sk-container-id-5 div.sk-toggleable__content pre {margin: 0.2em;color: black;border-radius: 0.25em;background-color: #f0f8ff;}#sk-container-id-5 input.sk-toggleable__control:checked~div.sk-toggleable__content {max-height: 200px;max-width: 100%;overflow: auto;}#sk-container-id-5 input.sk-toggleable__control:checked~label.sk-toggleable__label-arrow:before {content: \"▾\";}#sk-container-id-5 div.sk-estimator input.sk-toggleable__control:checked~label.sk-toggleable__label {background-color: #d4ebff;}#sk-container-id-5 div.sk-label input.sk-toggleable__control:checked~label.sk-toggleable__label {background-color: #d4ebff;}#sk-container-id-5 input.sk-hidden--visually {border: 0;clip: rect(1px 1px 1px 1px);clip: rect(1px, 1px, 1px, 1px);height: 1px;margin: -1px;overflow: hidden;padding: 0;position: absolute;width: 1px;}#sk-container-id-5 div.sk-estimator {font-family: monospace;background-color: #f0f8ff;border: 1px dotted black;border-radius: 0.25em;box-sizing: border-box;margin-bottom: 0.5em;}#sk-container-id-5 div.sk-estimator:hover {background-color: #d4ebff;}#sk-container-id-5 div.sk-parallel-item::after {content: \"\";width: 100%;border-bottom: 1px solid gray;flex-grow: 1;}#sk-container-id-5 div.sk-label:hover label.sk-toggleable__label {background-color: #d4ebff;}#sk-container-id-5 div.sk-serial::before {content: \"\";position: absolute;border-left: 1px solid gray;box-sizing: border-box;top: 0;bottom: 0;left: 50%;z-index: 0;}#sk-container-id-5 div.sk-serial {display: flex;flex-direction: column;align-items: center;background-color: white;padding-right: 0.2em;padding-left: 0.2em;position: relative;}#sk-container-id-5 div.sk-item {position: relative;z-index: 1;}#sk-container-id-5 div.sk-parallel {display: flex;align-items: stretch;justify-content: center;background-color: white;position: relative;}#sk-container-id-5 div.sk-item::before, #sk-container-id-5 div.sk-parallel-item::before {content: \"\";position: absolute;border-left: 1px solid gray;box-sizing: border-box;top: 0;bottom: 0;left: 50%;z-index: -1;}#sk-container-id-5 div.sk-parallel-item {display: flex;flex-direction: column;z-index: 1;position: relative;background-color: white;}#sk-container-id-5 div.sk-parallel-item:first-child::after {align-self: flex-end;width: 50%;}#sk-container-id-5 div.sk-parallel-item:last-child::after {align-self: flex-start;width: 50%;}#sk-container-id-5 div.sk-parallel-item:only-child::after {width: 0;}#sk-container-id-5 div.sk-dashed-wrapped {border: 1px dashed gray;margin: 0 0.4em 0.5em 0.4em;box-sizing: border-box;padding-bottom: 0.4em;background-color: white;}#sk-container-id-5 div.sk-label label {font-family: monospace;font-weight: bold;display: inline-block;line-height: 1.2em;}#sk-container-id-5 div.sk-label-container {text-align: center;}#sk-container-id-5 div.sk-container {/* jupyter's `normalize.less` sets `[hidden] { display: none; }` but bootstrap.min.css set `[hidden] { display: none !important; }` so we also need the `!important` here to be able to override the default hidden behavior on the sphinx rendered scikit-learn.org. See: https://github.com/scikit-learn/scikit-learn/issues/21755 */display: inline-block !important;position: relative;}#sk-container-id-5 div.sk-text-repr-fallback {display: none;}</style><div id=\"sk-container-id-5\" class=\"sk-top-container\"><div class=\"sk-text-repr-fallback\"><pre>GradientBoostingClassifier(learning_rate=0.05, n_estimators=500,\n",
              "                           random_state=100)</pre><b>In a Jupyter environment, please rerun this cell to show the HTML representation or trust the notebook. <br />On GitHub, the HTML representation is unable to render, please try loading this page with nbviewer.org.</b></div><div class=\"sk-container\" hidden><div class=\"sk-item\"><div class=\"sk-estimator sk-toggleable\"><input class=\"sk-toggleable__control sk-hidden--visually\" id=\"sk-estimator-id-11\" type=\"checkbox\" checked><label for=\"sk-estimator-id-11\" class=\"sk-toggleable__label sk-toggleable__label-arrow\">GradientBoostingClassifier</label><div class=\"sk-toggleable__content\"><pre>GradientBoostingClassifier(learning_rate=0.05, n_estimators=500,\n",
              "                           random_state=100)</pre></div></div></div></div></div>"
            ]
          },
          "metadata": {},
          "execution_count": 187
        }
      ]
    },
    {
      "cell_type": "code",
      "source": [
        "from sklearn.metrics import classification_report\n",
        "\n",
        "pred=gbc.predict(X_test)\n",
        "\n",
        "print(classification_report(y_test, pred))"
      ],
      "metadata": {
        "colab": {
          "base_uri": "https://localhost:8080/"
        },
        "id": "hQtenBeF0rMe",
        "outputId": "a0757b27-a02d-4dbc-dba3-66d85f381e6f"
      },
      "execution_count": null,
      "outputs": [
        {
          "output_type": "stream",
          "name": "stdout",
          "text": [
            "              precision    recall  f1-score   support\n",
            "\n",
            "           0       0.60      0.69      0.64       309\n",
            "           1       0.40      0.29      0.33       327\n",
            "           2       0.42      0.36      0.39       310\n",
            "           3       0.46      0.43      0.45       331\n",
            "           4       0.42      0.53      0.46       264\n",
            "           5       0.49      0.56      0.52       312\n",
            "\n",
            "    accuracy                           0.47      1853\n",
            "   macro avg       0.46      0.48      0.47      1853\n",
            "weighted avg       0.47      0.47      0.46      1853\n",
            "\n"
          ]
        }
      ]
    },
    {
      "cell_type": "code",
      "source": [
        "from sklearn.neighbors import KNeighborsClassifier\n",
        "neigh = KNeighborsClassifier(n_neighbors=120)\n",
        "neigh.fit(X_train,y_train)"
      ],
      "metadata": {
        "colab": {
          "base_uri": "https://localhost:8080/",
          "height": 74
        },
        "id": "8BJZ7vq91_Ne",
        "outputId": "c9aa28cf-2bcb-4978-8dd8-c2c411dc0bae"
      },
      "execution_count": null,
      "outputs": [
        {
          "output_type": "execute_result",
          "data": {
            "text/plain": [
              "KNeighborsClassifier(n_neighbors=120)"
            ],
            "text/html": [
              "<style>#sk-container-id-10 {color: black;background-color: white;}#sk-container-id-10 pre{padding: 0;}#sk-container-id-10 div.sk-toggleable {background-color: white;}#sk-container-id-10 label.sk-toggleable__label {cursor: pointer;display: block;width: 100%;margin-bottom: 0;padding: 0.3em;box-sizing: border-box;text-align: center;}#sk-container-id-10 label.sk-toggleable__label-arrow:before {content: \"▸\";float: left;margin-right: 0.25em;color: #696969;}#sk-container-id-10 label.sk-toggleable__label-arrow:hover:before {color: black;}#sk-container-id-10 div.sk-estimator:hover label.sk-toggleable__label-arrow:before {color: black;}#sk-container-id-10 div.sk-toggleable__content {max-height: 0;max-width: 0;overflow: hidden;text-align: left;background-color: #f0f8ff;}#sk-container-id-10 div.sk-toggleable__content pre {margin: 0.2em;color: black;border-radius: 0.25em;background-color: #f0f8ff;}#sk-container-id-10 input.sk-toggleable__control:checked~div.sk-toggleable__content {max-height: 200px;max-width: 100%;overflow: auto;}#sk-container-id-10 input.sk-toggleable__control:checked~label.sk-toggleable__label-arrow:before {content: \"▾\";}#sk-container-id-10 div.sk-estimator input.sk-toggleable__control:checked~label.sk-toggleable__label {background-color: #d4ebff;}#sk-container-id-10 div.sk-label input.sk-toggleable__control:checked~label.sk-toggleable__label {background-color: #d4ebff;}#sk-container-id-10 input.sk-hidden--visually {border: 0;clip: rect(1px 1px 1px 1px);clip: rect(1px, 1px, 1px, 1px);height: 1px;margin: -1px;overflow: hidden;padding: 0;position: absolute;width: 1px;}#sk-container-id-10 div.sk-estimator {font-family: monospace;background-color: #f0f8ff;border: 1px dotted black;border-radius: 0.25em;box-sizing: border-box;margin-bottom: 0.5em;}#sk-container-id-10 div.sk-estimator:hover {background-color: #d4ebff;}#sk-container-id-10 div.sk-parallel-item::after {content: \"\";width: 100%;border-bottom: 1px solid gray;flex-grow: 1;}#sk-container-id-10 div.sk-label:hover label.sk-toggleable__label {background-color: #d4ebff;}#sk-container-id-10 div.sk-serial::before {content: \"\";position: absolute;border-left: 1px solid gray;box-sizing: border-box;top: 0;bottom: 0;left: 50%;z-index: 0;}#sk-container-id-10 div.sk-serial {display: flex;flex-direction: column;align-items: center;background-color: white;padding-right: 0.2em;padding-left: 0.2em;position: relative;}#sk-container-id-10 div.sk-item {position: relative;z-index: 1;}#sk-container-id-10 div.sk-parallel {display: flex;align-items: stretch;justify-content: center;background-color: white;position: relative;}#sk-container-id-10 div.sk-item::before, #sk-container-id-10 div.sk-parallel-item::before {content: \"\";position: absolute;border-left: 1px solid gray;box-sizing: border-box;top: 0;bottom: 0;left: 50%;z-index: -1;}#sk-container-id-10 div.sk-parallel-item {display: flex;flex-direction: column;z-index: 1;position: relative;background-color: white;}#sk-container-id-10 div.sk-parallel-item:first-child::after {align-self: flex-end;width: 50%;}#sk-container-id-10 div.sk-parallel-item:last-child::after {align-self: flex-start;width: 50%;}#sk-container-id-10 div.sk-parallel-item:only-child::after {width: 0;}#sk-container-id-10 div.sk-dashed-wrapped {border: 1px dashed gray;margin: 0 0.4em 0.5em 0.4em;box-sizing: border-box;padding-bottom: 0.4em;background-color: white;}#sk-container-id-10 div.sk-label label {font-family: monospace;font-weight: bold;display: inline-block;line-height: 1.2em;}#sk-container-id-10 div.sk-label-container {text-align: center;}#sk-container-id-10 div.sk-container {/* jupyter's `normalize.less` sets `[hidden] { display: none; }` but bootstrap.min.css set `[hidden] { display: none !important; }` so we also need the `!important` here to be able to override the default hidden behavior on the sphinx rendered scikit-learn.org. See: https://github.com/scikit-learn/scikit-learn/issues/21755 */display: inline-block !important;position: relative;}#sk-container-id-10 div.sk-text-repr-fallback {display: none;}</style><div id=\"sk-container-id-10\" class=\"sk-top-container\"><div class=\"sk-text-repr-fallback\"><pre>KNeighborsClassifier(n_neighbors=120)</pre><b>In a Jupyter environment, please rerun this cell to show the HTML representation or trust the notebook. <br />On GitHub, the HTML representation is unable to render, please try loading this page with nbviewer.org.</b></div><div class=\"sk-container\" hidden><div class=\"sk-item\"><div class=\"sk-estimator sk-toggleable\"><input class=\"sk-toggleable__control sk-hidden--visually\" id=\"sk-estimator-id-10\" type=\"checkbox\" checked><label for=\"sk-estimator-id-10\" class=\"sk-toggleable__label sk-toggleable__label-arrow\">KNeighborsClassifier</label><div class=\"sk-toggleable__content\"><pre>KNeighborsClassifier(n_neighbors=120)</pre></div></div></div></div></div>"
            ]
          },
          "metadata": {},
          "execution_count": 39
        }
      ]
    },
    {
      "cell_type": "code",
      "source": [
        "from sklearn.metrics import classification_report\n",
        "\n",
        "pred=neigh.predict(X_test)\n",
        "\n",
        "print(classification_report(y_test, pred))"
      ],
      "metadata": {
        "colab": {
          "base_uri": "https://localhost:8080/"
        },
        "id": "SFibUJVDLbSA",
        "outputId": "aaef48cc-acb2-430d-8631-18d8d28dde9e"
      },
      "execution_count": null,
      "outputs": [
        {
          "output_type": "stream",
          "name": "stdout",
          "text": [
            "              precision    recall  f1-score   support\n",
            "\n",
            "           0       0.56      0.73      0.64       309\n",
            "           1       0.40      0.22      0.28       327\n",
            "           2       0.43      0.08      0.14       310\n",
            "           3       0.44      0.31      0.37       331\n",
            "           4       0.32      0.63      0.42       264\n",
            "           5       0.42      0.60      0.49       312\n",
            "\n",
            "    accuracy                           0.42      1853\n",
            "   macro avg       0.43      0.43      0.39      1853\n",
            "weighted avg       0.43      0.42      0.39      1853\n",
            "\n"
          ]
        }
      ]
    },
    {
      "cell_type": "code",
      "source": [
        " from xgboost import XGBClassifier\n",
        "\n",
        " model = XGBClassifier(max_depth=6, n_estimators=1000, n_jobs=-1, random_state=42)\n",
        " model.fit(X_train, y_train)\n"
      ],
      "metadata": {
        "colab": {
          "base_uri": "https://localhost:8080/",
          "height": 248
        },
        "id": "Kg0D4qQAye1y",
        "outputId": "746c3598-c083-4231-fafa-a55b5be1aa72"
      },
      "execution_count": null,
      "outputs": [
        {
          "output_type": "execute_result",
          "data": {
            "text/plain": [
              "XGBClassifier(base_score=None, booster=None, callbacks=None,\n",
              "              colsample_bylevel=None, colsample_bynode=None,\n",
              "              colsample_bytree=None, early_stopping_rounds=None,\n",
              "              enable_categorical=False, eval_metric=None, feature_types=None,\n",
              "              gamma=None, gpu_id=None, grow_policy=None, importance_type=None,\n",
              "              interaction_constraints=None, learning_rate=None, max_bin=None,\n",
              "              max_cat_threshold=None, max_cat_to_onehot=None,\n",
              "              max_delta_step=None, max_depth=6, max_leaves=None,\n",
              "              min_child_weight=None, missing=nan, monotone_constraints=None,\n",
              "              n_estimators=1000, n_jobs=-1, num_parallel_tree=None,\n",
              "              objective='multi:softprob', predictor=None, ...)"
            ],
            "text/html": [
              "<style>#sk-container-id-17 {color: black;background-color: white;}#sk-container-id-17 pre{padding: 0;}#sk-container-id-17 div.sk-toggleable {background-color: white;}#sk-container-id-17 label.sk-toggleable__label {cursor: pointer;display: block;width: 100%;margin-bottom: 0;padding: 0.3em;box-sizing: border-box;text-align: center;}#sk-container-id-17 label.sk-toggleable__label-arrow:before {content: \"▸\";float: left;margin-right: 0.25em;color: #696969;}#sk-container-id-17 label.sk-toggleable__label-arrow:hover:before {color: black;}#sk-container-id-17 div.sk-estimator:hover label.sk-toggleable__label-arrow:before {color: black;}#sk-container-id-17 div.sk-toggleable__content {max-height: 0;max-width: 0;overflow: hidden;text-align: left;background-color: #f0f8ff;}#sk-container-id-17 div.sk-toggleable__content pre {margin: 0.2em;color: black;border-radius: 0.25em;background-color: #f0f8ff;}#sk-container-id-17 input.sk-toggleable__control:checked~div.sk-toggleable__content {max-height: 200px;max-width: 100%;overflow: auto;}#sk-container-id-17 input.sk-toggleable__control:checked~label.sk-toggleable__label-arrow:before {content: \"▾\";}#sk-container-id-17 div.sk-estimator input.sk-toggleable__control:checked~label.sk-toggleable__label {background-color: #d4ebff;}#sk-container-id-17 div.sk-label input.sk-toggleable__control:checked~label.sk-toggleable__label {background-color: #d4ebff;}#sk-container-id-17 input.sk-hidden--visually {border: 0;clip: rect(1px 1px 1px 1px);clip: rect(1px, 1px, 1px, 1px);height: 1px;margin: -1px;overflow: hidden;padding: 0;position: absolute;width: 1px;}#sk-container-id-17 div.sk-estimator {font-family: monospace;background-color: #f0f8ff;border: 1px dotted black;border-radius: 0.25em;box-sizing: border-box;margin-bottom: 0.5em;}#sk-container-id-17 div.sk-estimator:hover {background-color: #d4ebff;}#sk-container-id-17 div.sk-parallel-item::after {content: \"\";width: 100%;border-bottom: 1px solid gray;flex-grow: 1;}#sk-container-id-17 div.sk-label:hover label.sk-toggleable__label {background-color: #d4ebff;}#sk-container-id-17 div.sk-serial::before {content: \"\";position: absolute;border-left: 1px solid gray;box-sizing: border-box;top: 0;bottom: 0;left: 50%;z-index: 0;}#sk-container-id-17 div.sk-serial {display: flex;flex-direction: column;align-items: center;background-color: white;padding-right: 0.2em;padding-left: 0.2em;position: relative;}#sk-container-id-17 div.sk-item {position: relative;z-index: 1;}#sk-container-id-17 div.sk-parallel {display: flex;align-items: stretch;justify-content: center;background-color: white;position: relative;}#sk-container-id-17 div.sk-item::before, #sk-container-id-17 div.sk-parallel-item::before {content: \"\";position: absolute;border-left: 1px solid gray;box-sizing: border-box;top: 0;bottom: 0;left: 50%;z-index: -1;}#sk-container-id-17 div.sk-parallel-item {display: flex;flex-direction: column;z-index: 1;position: relative;background-color: white;}#sk-container-id-17 div.sk-parallel-item:first-child::after {align-self: flex-end;width: 50%;}#sk-container-id-17 div.sk-parallel-item:last-child::after {align-self: flex-start;width: 50%;}#sk-container-id-17 div.sk-parallel-item:only-child::after {width: 0;}#sk-container-id-17 div.sk-dashed-wrapped {border: 1px dashed gray;margin: 0 0.4em 0.5em 0.4em;box-sizing: border-box;padding-bottom: 0.4em;background-color: white;}#sk-container-id-17 div.sk-label label {font-family: monospace;font-weight: bold;display: inline-block;line-height: 1.2em;}#sk-container-id-17 div.sk-label-container {text-align: center;}#sk-container-id-17 div.sk-container {/* jupyter's `normalize.less` sets `[hidden] { display: none; }` but bootstrap.min.css set `[hidden] { display: none !important; }` so we also need the `!important` here to be able to override the default hidden behavior on the sphinx rendered scikit-learn.org. See: https://github.com/scikit-learn/scikit-learn/issues/21755 */display: inline-block !important;position: relative;}#sk-container-id-17 div.sk-text-repr-fallback {display: none;}</style><div id=\"sk-container-id-17\" class=\"sk-top-container\"><div class=\"sk-text-repr-fallback\"><pre>XGBClassifier(base_score=None, booster=None, callbacks=None,\n",
              "              colsample_bylevel=None, colsample_bynode=None,\n",
              "              colsample_bytree=None, early_stopping_rounds=None,\n",
              "              enable_categorical=False, eval_metric=None, feature_types=None,\n",
              "              gamma=None, gpu_id=None, grow_policy=None, importance_type=None,\n",
              "              interaction_constraints=None, learning_rate=None, max_bin=None,\n",
              "              max_cat_threshold=None, max_cat_to_onehot=None,\n",
              "              max_delta_step=None, max_depth=6, max_leaves=None,\n",
              "              min_child_weight=None, missing=nan, monotone_constraints=None,\n",
              "              n_estimators=1000, n_jobs=-1, num_parallel_tree=None,\n",
              "              objective=&#x27;multi:softprob&#x27;, predictor=None, ...)</pre><b>In a Jupyter environment, please rerun this cell to show the HTML representation or trust the notebook. <br />On GitHub, the HTML representation is unable to render, please try loading this page with nbviewer.org.</b></div><div class=\"sk-container\" hidden><div class=\"sk-item\"><div class=\"sk-estimator sk-toggleable\"><input class=\"sk-toggleable__control sk-hidden--visually\" id=\"sk-estimator-id-21\" type=\"checkbox\" checked><label for=\"sk-estimator-id-21\" class=\"sk-toggleable__label sk-toggleable__label-arrow\">XGBClassifier</label><div class=\"sk-toggleable__content\"><pre>XGBClassifier(base_score=None, booster=None, callbacks=None,\n",
              "              colsample_bylevel=None, colsample_bynode=None,\n",
              "              colsample_bytree=None, early_stopping_rounds=None,\n",
              "              enable_categorical=False, eval_metric=None, feature_types=None,\n",
              "              gamma=None, gpu_id=None, grow_policy=None, importance_type=None,\n",
              "              interaction_constraints=None, learning_rate=None, max_bin=None,\n",
              "              max_cat_threshold=None, max_cat_to_onehot=None,\n",
              "              max_delta_step=None, max_depth=6, max_leaves=None,\n",
              "              min_child_weight=None, missing=nan, monotone_constraints=None,\n",
              "              n_estimators=1000, n_jobs=-1, num_parallel_tree=None,\n",
              "              objective=&#x27;multi:softprob&#x27;, predictor=None, ...)</pre></div></div></div></div></div>"
            ]
          },
          "metadata": {},
          "execution_count": 166
        }
      ]
    },
    {
      "cell_type": "code",
      "source": [
        "pred=model.predict(X_test)\n",
        "\n",
        "print(classification_report(y_test, pred))"
      ],
      "metadata": {
        "colab": {
          "base_uri": "https://localhost:8080/"
        },
        "id": "3h5-QWXMyveF",
        "outputId": "872693c3-91f4-4b5b-c418-04af1474728c"
      },
      "execution_count": null,
      "outputs": [
        {
          "output_type": "stream",
          "name": "stdout",
          "text": [
            "              precision    recall  f1-score   support\n",
            "\n",
            "           0       0.61      0.72      0.66       309\n",
            "           1       0.41      0.30      0.35       327\n",
            "           2       0.44      0.38      0.41       310\n",
            "           3       0.45      0.40      0.42       331\n",
            "           4       0.42      0.50      0.46       264\n",
            "           5       0.50      0.59      0.54       312\n",
            "\n",
            "    accuracy                           0.48      1853\n",
            "   macro avg       0.47      0.48      0.47      1853\n",
            "weighted avg       0.47      0.48      0.47      1853\n",
            "\n"
          ]
        }
      ]
    },
    {
      "cell_type": "code",
      "source": [
        "from sklearn.svm import SVC\n",
        "from sklearn.metrics import accuracy_score\n",
        "\n",
        "clf = SVC(kernel='linear')\n",
        "clf.fit(X_train,y_train)\n",
        "y_pred = clf.predict(X_test)\n",
        "print(classification_report(y_test, y_pred))"
      ],
      "metadata": {
        "colab": {
          "base_uri": "https://localhost:8080/"
        },
        "id": "iH3ojdRtN33k",
        "outputId": "6e192e96-d1cd-4ee3-d64f-dd9878dc7419"
      },
      "execution_count": null,
      "outputs": [
        {
          "output_type": "stream",
          "name": "stdout",
          "text": [
            "              precision    recall  f1-score   support\n",
            "\n",
            "           0       0.60      0.69      0.64       309\n",
            "           1       0.41      0.33      0.37       327\n",
            "           2       0.46      0.36      0.41       310\n",
            "           3       0.51      0.42      0.46       331\n",
            "           4       0.45      0.52      0.48       264\n",
            "           5       0.51      0.68      0.58       312\n",
            "\n",
            "    accuracy                           0.50      1853\n",
            "   macro avg       0.49      0.50      0.49      1853\n",
            "weighted avg       0.49      0.50      0.49      1853\n",
            "\n"
          ]
        }
      ]
    },
    {
      "cell_type": "code",
      "source": [
        "model = tensorflow.keras.models.Sequential()\n",
        "model.add(tensorflow.keras.Input(shape=(44,)))\n",
        "model.add(tensorflow.keras.layers.Dense(512,activation=\"relu\"))\n",
        "model.add(tensorflow.keras.layers.Dense(256,activation=\"relu\"))\n",
        "model.add(tensorflow.keras.layers.Dense(128,activation=\"relu\"))\n",
        "model.add(tensorflow.keras.layers.Dense(64,activation=\"relu\"))\n",
        "model.add(tensorflow.keras.layers.Dense(6,activation=\"softmax\"))\n",
        "\n",
        "from keras.optimizers import SGD\n",
        "opt = SGD(lr=0.01)\n",
        "\n",
        "model.compile(loss='sparse_categorical_crossentropy',optimizer=opt,metrics=['accuracy'])"
      ],
      "metadata": {
        "id": "1stYl6FGBbJE"
      },
      "execution_count": null,
      "outputs": []
    },
    {
      "cell_type": "code",
      "source": [
        "model1 = model.fit(X_train,y_train,epochs=20,validation_data=(X_test,y_test),batch_size=64)"
      ],
      "metadata": {
        "colab": {
          "base_uri": "https://localhost:8080/"
        },
        "id": "BtQcTBFODUne",
        "outputId": "dfc37b0f-8b70-4fbb-870d-6f75e27807db"
      },
      "execution_count": null,
      "outputs": [
        {
          "output_type": "stream",
          "name": "stdout",
          "text": [
            "Epoch 1/20\n",
            "87/87 [==============================] - 3s 18ms/step - loss: 1.7487 - accuracy: 0.2751 - val_loss: 1.6754 - val_accuracy: 0.3287\n",
            "Epoch 2/20\n",
            "87/87 [==============================] - 1s 13ms/step - loss: 1.6332 - accuracy: 0.3396 - val_loss: 1.5846 - val_accuracy: 0.3573\n",
            "Epoch 3/20\n",
            "87/87 [==============================] - 1s 12ms/step - loss: 1.5585 - accuracy: 0.3635 - val_loss: 1.5257 - val_accuracy: 0.3751\n",
            "Epoch 4/20\n",
            "87/87 [==============================] - 1s 9ms/step - loss: 1.5060 - accuracy: 0.3900 - val_loss: 1.4826 - val_accuracy: 0.3999\n",
            "Epoch 5/20\n",
            "87/87 [==============================] - 1s 8ms/step - loss: 1.4669 - accuracy: 0.4116 - val_loss: 1.4495 - val_accuracy: 0.4150\n",
            "Epoch 6/20\n",
            "87/87 [==============================] - 1s 8ms/step - loss: 1.4352 - accuracy: 0.4245 - val_loss: 1.4250 - val_accuracy: 0.4307\n",
            "Epoch 7/20\n",
            "87/87 [==============================] - 1s 8ms/step - loss: 1.4090 - accuracy: 0.4371 - val_loss: 1.4025 - val_accuracy: 0.4409\n",
            "Epoch 8/20\n",
            "87/87 [==============================] - 1s 8ms/step - loss: 1.3870 - accuracy: 0.4418 - val_loss: 1.3845 - val_accuracy: 0.4474\n",
            "Epoch 9/20\n",
            "87/87 [==============================] - 1s 8ms/step - loss: 1.3685 - accuracy: 0.4493 - val_loss: 1.3703 - val_accuracy: 0.4528\n",
            "Epoch 10/20\n",
            "87/87 [==============================] - 1s 7ms/step - loss: 1.3515 - accuracy: 0.4529 - val_loss: 1.3622 - val_accuracy: 0.4512\n",
            "Epoch 11/20\n",
            "87/87 [==============================] - 1s 7ms/step - loss: 1.3373 - accuracy: 0.4625 - val_loss: 1.3517 - val_accuracy: 0.4560\n",
            "Epoch 12/20\n",
            "87/87 [==============================] - 1s 9ms/step - loss: 1.3242 - accuracy: 0.4673 - val_loss: 1.3423 - val_accuracy: 0.4593\n",
            "Epoch 13/20\n",
            "87/87 [==============================] - 1s 8ms/step - loss: 1.3124 - accuracy: 0.4722 - val_loss: 1.3334 - val_accuracy: 0.4652\n",
            "Epoch 14/20\n",
            "87/87 [==============================] - 1s 10ms/step - loss: 1.3000 - accuracy: 0.4798 - val_loss: 1.3327 - val_accuracy: 0.4598\n",
            "Epoch 15/20\n",
            "87/87 [==============================] - 1s 12ms/step - loss: 1.2906 - accuracy: 0.4857 - val_loss: 1.3245 - val_accuracy: 0.4663\n",
            "Epoch 16/20\n",
            "87/87 [==============================] - 1s 11ms/step - loss: 1.2795 - accuracy: 0.4902 - val_loss: 1.3212 - val_accuracy: 0.4679\n",
            "Epoch 17/20\n",
            "87/87 [==============================] - 1s 12ms/step - loss: 1.2697 - accuracy: 0.4967 - val_loss: 1.3133 - val_accuracy: 0.4744\n",
            "Epoch 18/20\n",
            "87/87 [==============================] - 1s 12ms/step - loss: 1.2611 - accuracy: 0.5010 - val_loss: 1.3111 - val_accuracy: 0.4722\n",
            "Epoch 19/20\n",
            "87/87 [==============================] - 1s 12ms/step - loss: 1.2529 - accuracy: 0.5064 - val_loss: 1.3075 - val_accuracy: 0.4744\n",
            "Epoch 20/20\n",
            "87/87 [==============================] - 1s 11ms/step - loss: 1.2440 - accuracy: 0.5073 - val_loss: 1.3046 - val_accuracy: 0.4738\n"
          ]
        }
      ]
    },
    {
      "cell_type": "code",
      "source": [
        "y_hat=model.predict(X_test)\n",
        "y_pred=np.argmax(y_hat, axis=1)"
      ],
      "metadata": {
        "id": "l_vng6aZNTXE",
        "colab": {
          "base_uri": "https://localhost:8080/"
        },
        "outputId": "a48da7d2-ebe0-4f9e-dfec-815c010643f8"
      },
      "execution_count": null,
      "outputs": [
        {
          "output_type": "stream",
          "name": "stdout",
          "text": [
            "58/58 [==============================] - 1s 6ms/step\n"
          ]
        }
      ]
    },
    {
      "cell_type": "code",
      "source": [
        "from sklearn.metrics import ConfusionMatrixDisplay,  confusion_matrix\n",
        "\n",
        "fig, ax = plt.subplots(figsize=(14,14))\n",
        "ConfusionMatrixDisplay.from_predictions(y_test, y_pred, display_labels=encoder.classes_, ax=ax, normalize='pred')\n",
        "plt.xticks(rotation=45);"
      ],
      "metadata": {
        "colab": {
          "base_uri": "https://localhost:8080/",
          "height": 741
        },
        "id": "OuwuZ0S2P46w",
        "outputId": "79b4c290-89ac-4c36-9028-f28d6e3d8bd6"
      },
      "execution_count": null,
      "outputs": [
        {
          "output_type": "display_data",
          "data": {
            "text/plain": [
              "<Figure size 1400x1400 with 2 Axes>"
            ],
            "image/png": "[encoded data removed]"
          },
          "metadata": {}
        }
      ]
    },
    {
      "cell_type": "code",
      "source": [],
      "metadata": {
        "id": "1IXOoywVQCAk"
      },
      "execution_count": null,
      "outputs": []
    }
  ],
  "metadata": {
    "colab": {
      "provenance": [],
      "mount_file_id": "1GlzVapxi4oOGPD-cZaC6ZsvQTB3Ciu6E",
      "authorship_tag": "ABX9TyPKPQysFKLkn/WrpV+dqe2i"
    },
    "kernelspec": {
      "display_name": "Python 3",
      "name": "python3"
    },
    "language_info": {
      "name": "python"
    }
  },
  "nbformat": 4,
  "nbformat_minor": 0
}