{
 "cells": [
  {
   "cell_type": "code",
   "execution_count": 3,
   "id": "c0da906b",
   "metadata": {},
   "outputs": [],
   "source": [
    "import numpy as np\n",
    "import librosa.display, os\n",
    "import matplotlib.pyplot as plt\n",
    "%matplotlib inline\n",
    "\n",
    "def create_spectrogram(audio_file, image_file):\n",
    "    fig = plt.figure()\n",
    "    ax = fig.add_subplot(1, 1, 1)\n",
    "    fig.subplots_adjust(left=0, right=1, bottom=0, top=1)\n",
    "\n",
    "    y, sr = librosa.load(audio_file)\n",
    "    ms = librosa.feature.melspectrogram(y=y)\n",
    "    log_ms = librosa.power_to_db(ms, ref=np.max)\n",
    "    librosa.display.specshow(log_ms, sr=sr)\n",
    "\n",
    "    fig.savefig(image_file)\n",
    "    plt.close(fig)\n",
    "\n",
    "def create_pngs_from_wavs(input_path, output_path):\n",
    "    if not os.path.exists(output_path):\n",
    "        os.makedirs(output_path)\n",
    "\n",
    "    dir = os.listdir(input_path)\n",
    "\n",
    "    for i, file in enumerate(dir):\n",
    "        input_file = os.path.join(input_path, file)\n",
    "        output_file = os.path.join(output_path, file.replace('.wav', '.png'))\n",
    "        create_spectrogram(input_file, output_file)"
   ]
  },
  {
   "cell_type": "code",
   "execution_count": 1,
   "id": "811bd3bf",
   "metadata": {},
   "outputs": [],
   "source": [
    "#create_pngs_from_wavs(\"C:\\\\Users\\\\biann\\\\Documents\\\\CREMA-D\\\\AudioWAV\", \"C:\\\\Users\\\\biann\\\\Documents\\\\CREMA-D\\\\Spectrograms_Unlogged\")"
   ]
  },
  {
   "cell_type": "code",
   "execution_count": 7,
   "id": "43130069",
   "metadata": {},
   "outputs": [],
   "source": [
    "#dire = \"C:\\\\Users\\\\biann\\\\Documents\\\\CREMA-D\\\\Spectrograms\"\n",
    "#dest = \"C:\\\\Users\\\\biann\\\\Documents\\\\CREMA-D\\\\test\"\n",
    "\n",
    "#import os\n",
    "#import shutil\n",
    "\n",
    "#for i in os.listdir(dire)[:1850]:\n",
    "    #shutil.move(dire +'/' +i, dest )"
   ]
  },
  {
   "cell_type": "code",
   "execution_count": 13,
   "id": "41ee95d6",
   "metadata": {},
   "outputs": [],
   "source": [
    "#dire = \"C:\\\\Users\\\\biann\\\\Documents\\\\CREMA-D\\\\Spectrograms\"\n",
    "#dest = \"C:\\\\Users\\\\biann\\\\Documents\\\\CREMA-D\\\\train\"\n",
    "\n",
    "#import os\n",
    "\n",
    "#for i in os.listdir(dire)[1850:]:\n",
    "    #shutil.move(dire +'/' +i, dest )"
   ]
  },
  {
   "cell_type": "code",
   "execution_count": 21,
   "id": "2c54a3e5",
   "metadata": {},
   "outputs": [],
   "source": [
    "#wav_list = os.listdir(\"C:\\\\Users\\\\biann\\\\Documents\\\\CREMA-D\\\\test\")\n",
    "\n",
    "#for file in wav_list:\n",
    "    #if \"SAD\" in file:\n",
    "        #created_folder = os.path.join(\"C:\\\\Users\\\\biann\\\\Documents\\\\CREMA-D\\\\test\", \"C:\\\\Users\\\\biann\\\\Documents\\\\CREMA-D\\\\test\\\\SAD\")\n",
    "        #filepath = os.path.join(\"C:\\\\Users\\\\biann\\\\Documents\\\\CREMA-D\\\\test\", file)\n",
    "        #os.makedirs(created_folder, exist_ok=True)\n",
    "        #shutil.move(filepath, created_folder)\n",
    "    #if \"ANG\" in file:\n",
    "        #created_folder = os.path.join(\"C:\\\\Users\\\\biann\\\\Documents\\\\CREMA-D\\\\test\", \"C:\\\\Users\\\\biann\\\\Documents\\\\CREMA-D\\\\test\\\\ANG\")\n",
    "        #filepath = os.path.join(\"C:\\\\Users\\\\biann\\\\Documents\\\\CREMA-D\\\\test\", file)\n",
    "        #os.makedirs(created_folder, exist_ok=True)\n",
    "        #shutil.move(filepath, created_folder)\n",
    "    #if \"DIS\" in file:\n",
    "        #created_folder = os.path.join(\"C:\\\\Users\\\\biann\\\\Documents\\\\CREMA-D\\\\test\", \"C:\\\\Users\\\\biann\\\\Documents\\\\CREMA-D\\\\test\\\\DIS\")\n",
    "        #filepath = os.path.join(\"C:\\\\Users\\\\biann\\\\Documents\\\\CREMA-D\\\\test\", file)\n",
    "        #os.makedirs(created_folder, exist_ok=True)\n",
    "        #shutil.move(filepath, created_folder)\n",
    "    #if \"FEA\" in file:\n",
    "        #created_folder = os.path.join(\"C:\\\\Users\\\\biann\\\\Documents\\\\CREMA-D\\\\test\", \"C:\\\\Users\\\\biann\\\\Documents\\\\CREMA-D\\\\test\\\\FEA\")\n",
    "        #filepath = os.path.join(\"C:\\\\Users\\\\biann\\\\Documents\\\\CREMA-D\\\\test\", file)\n",
    "        #os.makedirs(created_folder, exist_ok=True)\n",
    "        #shutil.move(filepath, created_folder)\n",
    "    #if \"HAP\" in file:\n",
    "        #created_folder = os.path.join(\"C:\\\\Users\\\\biann\\\\Documents\\\\CREMA-D\\\\test\", \"C:\\\\Users\\\\biann\\\\Documents\\\\CREMA-D\\\\test\\\\HAP\")\n",
    "        #filepath = os.path.join(\"C:\\\\Users\\\\biann\\\\Documents\\\\CREMA-D\\\\test\", file)\n",
    "        #os.makedirs(created_folder, exist_ok=True)\n",
    "        #shutil.move(filepath, created_folder)\n",
    "    #if \"NEU\" in file:\n",
    "        #created_folder = os.path.join(\"C:\\\\Users\\\\biann\\\\Documents\\\\CREMA-D\\\\test\", \"C:\\\\Users\\\\biann\\\\Documents\\\\CREMA-D\\\\test\\\\NEU\")\n",
    "        #filepath = os.path.join(\"C:\\\\Users\\\\biann\\\\Documents\\\\CREMA-D\\\\test\", file)\n",
    "        #os.makedirs(created_folder, exist_ok=True)\n",
    "        #shutil.move(filepath, created_folder)"
   ]
  },
  {
   "cell_type": "code",
   "execution_count": 22,
   "id": "246930af",
   "metadata": {},
   "outputs": [],
   "source": [
    "#wav_list = os.listdir(\"C:\\\\Users\\\\biann\\\\Documents\\\\CREMA-D\\\\train\")\n",
    "\n",
    "#for file in wav_list:\n",
    "    #if \"SAD\" in file:\n",
    "        #created_folder = os.path.join(\"C:\\\\Users\\\\biann\\\\Documents\\\\CREMA-D\\\\train\", \"C:\\\\Users\\\\biann\\\\Documents\\\\CREMA-D\\\\train\\\\SAD\")\n",
    "        #filepath = os.path.join(\"C:\\\\Users\\\\biann\\\\Documents\\\\CREMA-D\\\\train\", file)\n",
    "        #os.makedirs(created_folder, exist_ok=True)\n",
    "        #shutil.move(filepath, created_folder)\n",
    "    #if \"ANG\" in file:\n",
    "        #created_folder = os.path.join(\"C:\\\\Users\\\\biann\\\\Documents\\\\CREMA-D\\\\train\", \"C:\\\\Users\\\\biann\\\\Documents\\\\CREMA-D\\\\train\\\\ANG\")\n",
    "        #filepath = os.path.join(\"C:\\\\Users\\\\biann\\\\Documents\\\\CREMA-D\\\\train\", file)\n",
    "        #os.makedirs(created_folder, exist_ok=True)\n",
    "        #shutil.move(filepath, created_folder)\n",
    "    #if \"DIS\" in file:\n",
    "        #created_folder = os.path.join(\"C:\\\\Users\\\\biann\\\\Documents\\\\CREMA-D\\\\train\", \"C:\\\\Users\\\\biann\\\\Documents\\\\CREMA-D\\\\train\\\\DIS\")\n",
    "        #filepath = os.path.join(\"C:\\\\Users\\\\biann\\\\Documents\\\\CREMA-D\\\\train\", file)\n",
    "        #os.makedirs(created_folder, exist_ok=True)\n",
    "        #shutil.move(filepath, created_folder)\n",
    "    #if \"FEA\" in file:\n",
    "        #created_folder = os.path.join(\"C:\\\\Users\\\\biann\\\\Documents\\\\CREMA-D\\\\train\", \"C:\\\\Users\\\\biann\\\\Documents\\\\CREMA-D\\\\train\\\\FEA\")\n",
    "        #filepath = os.path.join(\"C:\\\\Users\\\\biann\\\\Documents\\\\CREMA-D\\\\train\", file)\n",
    "        #os.makedirs(created_folder, exist_ok=True)\n",
    "        #shutil.move(filepath, created_folder)\n",
    "    #if \"HAP\" in file:\n",
    "        #created_folder = os.path.join(\"C:\\\\Users\\\\biann\\\\Documents\\\\CREMA-D\\\\train\", \"C:\\\\Users\\\\biann\\\\Documents\\\\CREMA-D\\\\train\\\\HAP\")\n",
    "        #filepath = os.path.join(\"C:\\\\Users\\\\biann\\\\Documents\\\\CREMA-D\\\\train\", file)\n",
    "        #os.makedirs(created_folder, exist_ok=True)\n",
    "        #shutil.move(filepath, created_folder)\n",
    "    #if \"NEU\" in file:\n",
    "        #created_folder = os.path.join(\"C:\\\\Users\\\\biann\\\\Documents\\\\CREMA-D\\\\train\", \"C:\\\\Users\\\\biann\\\\Documents\\\\CREMA-D\\\\train\\\\NEU\")\n",
    "        #filepath = os.path.join(\"C:\\\\Users\\\\biann\\\\Documents\\\\CREMA-D\\\\train\", file)\n",
    "        #os.makedirs(created_folder, exist_ok=True)\n",
    "        #shutil.move(filepath, created_folder)"
   ]
  },
  {
   "cell_type": "code",
   "execution_count": 1,
   "id": "aac7959b",
   "metadata": {},
   "outputs": [
    {
     "name": "stdout",
     "output_type": "stream",
     "text": [
      "Found 1850 images belonging to 6 classes.\n"
     ]
    }
   ],
   "source": [
    "from keras.preprocessing.image import ImageDataGenerator\n",
    "\n",
    "test_dir = \"C:\\\\Users\\\\biann\\\\Documents\\\\CREMA-D\\\\test\"\n",
    "\n",
    "#Rescaling photos and setting validation split\n",
    "test_datagen = ImageDataGenerator(rescale=1./255)\n",
    "\n",
    "#Creating generator for testing\n",
    "test_generator = test_datagen.flow_from_directory(\n",
    "    test_dir,\n",
    "    target_size = (100,100),\n",
    "    color_mode = \"rgb\",\n",
    "    class_mode='categorical',\n",
    "    shuffle = False\n",
    ")"
   ]
  },
  {
   "cell_type": "code",
   "execution_count": 2,
   "id": "0e8e3776",
   "metadata": {},
   "outputs": [
    {
     "name": "stdout",
     "output_type": "stream",
     "text": [
      "Found 5592 images belonging to 6 classes.\n",
      "Found 2236 images belonging to 6 classes.\n"
     ]
    }
   ],
   "source": [
    "train_dir = \"C:\\\\Users\\\\biann\\\\Documents\\\\CREMA-D\\\\train\"\n",
    "\n",
    "#Rescaling photos and setting validation split\n",
    "train_datagen = ImageDataGenerator(rescale=1./255,validation_split=0.4)\n",
    "\n",
    "#Creating generators for training and validation\n",
    "train_generator = train_datagen.flow_from_directory(\n",
    "    train_dir,\n",
    "    target_size = (100,100),\n",
    "    color_mode = \"rgb\",\n",
    "    class_mode = \"categorical\"\n",
    ")\n",
    "\n",
    "validation_generator = train_datagen.flow_from_directory(\n",
    "    train_dir,\n",
    "    target_size = (100,100),\n",
    "    class_mode = \"categorical\",\n",
    "    subset = \"validation\",\n",
    ")"
   ]
  },
  {
   "cell_type": "code",
   "execution_count": 3,
   "id": "38ad0761",
   "metadata": {},
   "outputs": [
    {
     "name": "stdout",
     "output_type": "stream",
     "text": [
      "Model: \"sequential\"\n",
      "_________________________________________________________________\n",
      " Layer (type)                Output Shape              Param #   \n",
      "=================================================================\n",
      " conv2d (Conv2D)             (None, 98, 98, 64)        1792      \n",
      "                                                                 \n",
      " max_pooling2d (MaxPooling2D  (None, 49, 49, 64)       0         \n",
      " )                                                               \n",
      "                                                                 \n",
      " flatten (Flatten)           (None, 153664)            0         \n",
      "                                                                 \n",
      " dense (Dense)               (None, 512)               78676480  \n",
      "                                                                 \n",
      " dense_1 (Dense)             (None, 256)               131328    \n",
      "                                                                 \n",
      " dense_2 (Dense)             (None, 128)               32896     \n",
      "                                                                 \n",
      " dense_3 (Dense)             (None, 64)                8256      \n",
      "                                                                 \n",
      " dense_4 (Dense)             (None, 6)                 390       \n",
      "                                                                 \n",
      "=================================================================\n",
      "Total params: 78,851,142\n",
      "Trainable params: 78,851,142\n",
      "Non-trainable params: 0\n",
      "_________________________________________________________________\n"
     ]
    }
   ],
   "source": [
    "import keras\n",
    "import tensorflow as tf \n",
    "from keras import layers\n",
    "from keras.models import Sequential\n",
    "from tensorflow.keras import regularizers\n",
    "from keras.layers import Activation, Dense, Dropout, Conv2D, Flatten, MaxPooling2D, GlobalMaxPooling2D, GlobalAveragePooling1D, AveragePooling2D, Input, Add\n",
    "\n",
    "model = Sequential()\n",
    "model.add(Conv2D(64, (3, 3), activation='relu', input_shape=(100,100,3)))\n",
    "model.add(MaxPooling2D(2, 2))\n",
    "\n",
    "model.add(Flatten())\n",
    "model.add(Dense(512, activation='relu'))\n",
    "model.add(Dense(256, activation='relu'))\n",
    "model.add(Dense(128, activation='relu'))\n",
    "model.add(Dense(64, activation='relu'))\n",
    "\n",
    "model.add(Dense(6, activation='softmax'))\n",
    "model.compile(optimizer='adam', loss='categorical_crossentropy', metrics=['accuracy'])\n",
    "model.summary()"
   ]
  },
  {
   "cell_type": "code",
   "execution_count": 4,
   "id": "e96433f7",
   "metadata": {},
   "outputs": [
    {
     "name": "stdout",
     "output_type": "stream",
     "text": [
      "Epoch 1/15\n"
     ]
    },
    {
     "name": "stderr",
     "output_type": "stream",
     "text": [
      "C:\\Users\\biann\\AppData\\Local\\Temp\\ipykernel_25512\\3830958676.py:1: UserWarning: `Model.fit_generator` is deprecated and will be removed in a future version. Please use `Model.fit`, which supports generators.\n",
      "  model.fit_generator(\n"
     ]
    },
    {
     "name": "stdout",
     "output_type": "stream",
     "text": [
      "75/75 [==============================] - 41s 548ms/step - loss: 1.8223 - accuracy: 0.3100 - val_loss: 1.4583 - val_accuracy: 0.3891\n",
      "Epoch 2/15\n",
      "75/75 [==============================] - 73s 973ms/step - loss: 1.3812 - accuracy: 0.4404 - val_loss: 1.3601 - val_accuracy: 0.5125\n",
      "Epoch 3/15\n",
      "75/75 [==============================] - 29s 388ms/step - loss: 1.3296 - accuracy: 0.4758 - val_loss: 1.2615 - val_accuracy: 0.5089\n",
      "Epoch 4/15\n",
      "75/75 [==============================] - 30s 398ms/step - loss: 1.2382 - accuracy: 0.5167 - val_loss: 1.2104 - val_accuracy: 0.5326\n",
      "Epoch 5/15\n",
      "75/75 [==============================] - 31s 419ms/step - loss: 1.1688 - accuracy: 0.5472 - val_loss: 1.0848 - val_accuracy: 0.6020\n",
      "Epoch 6/15\n",
      "75/75 [==============================] - 36s 485ms/step - loss: 1.0768 - accuracy: 0.5899 - val_loss: 0.9918 - val_accuracy: 0.6319\n",
      "Epoch 7/15\n",
      "75/75 [==============================] - 38s 515ms/step - loss: 0.9292 - accuracy: 0.6513 - val_loss: 0.7819 - val_accuracy: 0.7317\n",
      "Epoch 8/15\n",
      "75/75 [==============================] - 32s 433ms/step - loss: 0.7817 - accuracy: 0.7163 - val_loss: 0.7099 - val_accuracy: 0.7616\n",
      "Epoch 9/15\n",
      "75/75 [==============================] - 32s 422ms/step - loss: 0.6946 - accuracy: 0.7517 - val_loss: 0.5589 - val_accuracy: 0.8041\n",
      "Epoch 10/15\n",
      "75/75 [==============================] - 31s 414ms/step - loss: 0.5991 - accuracy: 0.7825 - val_loss: 0.5451 - val_accuracy: 0.8046\n",
      "Epoch 11/15\n",
      "75/75 [==============================] - 37s 495ms/step - loss: 0.4823 - accuracy: 0.8329 - val_loss: 0.3290 - val_accuracy: 0.8980\n",
      "Epoch 12/15\n",
      "75/75 [==============================] - 36s 483ms/step - loss: 0.3778 - accuracy: 0.8637 - val_loss: 0.3711 - val_accuracy: 0.8784\n",
      "Epoch 13/15\n",
      "75/75 [==============================] - 32s 426ms/step - loss: 0.3339 - accuracy: 0.8888 - val_loss: 0.2867 - val_accuracy: 0.9168\n",
      "Epoch 14/15\n",
      "75/75 [==============================] - 30s 402ms/step - loss: 0.2935 - accuracy: 0.9064 - val_loss: 0.2239 - val_accuracy: 0.9320\n",
      "Epoch 15/15\n",
      "75/75 [==============================] - 31s 417ms/step - loss: 0.2354 - accuracy: 0.9133 - val_loss: 0.2025 - val_accuracy: 0.9343\n"
     ]
    },
    {
     "data": {
      "text/plain": [
       "<keras.callbacks.History at 0x1259b16d7e0>"
      ]
     },
     "execution_count": 4,
     "metadata": {},
     "output_type": "execute_result"
    }
   ],
   "source": [
    "model.fit_generator(\n",
    "    train_generator,\n",
    "    epochs=15,\n",
    "    steps_per_epoch = 75,\n",
    "    validation_data=validation_generator)"
   ]
  },
  {
   "cell_type": "code",
   "execution_count": 8,
   "id": "7f7c040f",
   "metadata": {},
   "outputs": [
    {
     "name": "stdout",
     "output_type": "stream",
     "text": [
      "58/58 [==============================] - 7s 125ms/step\n"
     ]
    },
    {
     "data": {
      "image/png": "[encoded data removed]",
      "text/plain": [
       "<Figure size 1200x800 with 1 Axes>"
      ]
     },
     "metadata": {},
     "output_type": "display_data"
    },
    {
     "name": "stdout",
     "output_type": "stream",
     "text": [
      "Classification Report:\n",
      "----------------------\n",
      "               precision    recall  f1-score   support\n",
      "\n",
      "         ANG     0.6838    0.5868    0.6316       317\n",
      "         DIS     0.3345    0.3101    0.3218       316\n",
      "         FEA     0.3820    0.3892    0.3856       316\n",
      "         HAP     0.4255    0.3703    0.3959       316\n",
      "         NEU     0.4246    0.4498    0.4368       269\n",
      "         SAD     0.4789    0.6108    0.5369       316\n",
      "\n",
      "    accuracy                         0.4530      1850\n",
      "   macro avg     0.4549    0.4528    0.4514      1850\n",
      "weighted avg     0.4558    0.4530    0.4519      1850\n",
      "\n"
     ]
    }
   ],
   "source": [
    "from sklearn.metrics import classification_report\n",
    "from sklearn.metrics import confusion_matrix\n",
    "import seaborn as sns\n",
    "import numpy as np\n",
    "import matplotlib.pyplot as plt\n",
    "from sklearn.metrics import f1_score\n",
    "\n",
    "\n",
    "def predictor(test_gen):    \n",
    "    y_pred= []\n",
    "    error_list=[]\n",
    "    error_pred_list = []\n",
    "    y_true=test_generator.labels\n",
    "    classes=list(test_generator.class_indices.keys())\n",
    "    class_count=len(classes)\n",
    "    errors=0\n",
    "    preds=model.predict(test_gen, verbose=1)\n",
    "    tests=len(preds)    \n",
    "    for i, p in enumerate(preds):        \n",
    "        pred_index=np.argmax(p)         \n",
    "        true_index=test_generator.labels[i]  # labels are integer values        \n",
    "        if pred_index != true_index: # a misclassification has occurred                                           \n",
    "            errors=errors + 1\n",
    "            file=test_gen.filenames[i]\n",
    "            error_list.append(file)\n",
    "            error_class=classes[pred_index]\n",
    "            error_pred_list.append(error_class)\n",
    "        y_pred.append(pred_index)\n",
    "            \n",
    "    acc=( 1-errors/tests) * 100\n",
    "    msg=f'there were {errors} errors in {tests} tests for an accuracy of {acc:6.2f}'\n",
    "    ypred=np.array(y_pred)\n",
    "    ytrue=np.array(y_true)\n",
    "    f1score=f1_score(ytrue, ypred, average='weighted')* 100\n",
    "    if class_count <=30:\n",
    "        cm = confusion_matrix(ytrue, ypred )\n",
    "        # plot the confusion matrix\n",
    "        plt.figure(figsize=(12, 8))\n",
    "        sns.heatmap(cm, annot=True, vmin=0, fmt='g', cmap='Blues', cbar=False)       \n",
    "        plt.xticks(np.arange(class_count)+.5, classes, rotation=90)\n",
    "        plt.yticks(np.arange(class_count)+.5, classes, rotation=0)\n",
    "        plt.xlabel(\"Predicted\")\n",
    "        plt.ylabel(\"Actual\")\n",
    "        plt.title(\"Confusion Matrix\")\n",
    "        plt.show()\n",
    "    clr = classification_report(y_true, y_pred, target_names=classes, digits= 4) # create classification report\n",
    "    print(\"Classification Report:\\n----------------------\\n\", clr)\n",
    "    return errors, tests, error_list, error_pred_list, f1score\n",
    "\n",
    "errors, tests, error_list, error_pred_list, f1score =predictor(test_generator)"
   ]
  },
  {
   "cell_type": "code",
   "execution_count": 233,
   "id": "012a0b36",
   "metadata": {},
   "outputs": [
    {
     "name": "stdout",
     "output_type": "stream",
     "text": [
      "Found 1850 images belonging to 6 classes.\n"
     ]
    }
   ],
   "source": [
    "from keras.preprocessing.image import ImageDataGenerator\n",
    "from keras.applications.mobilenet_v2 import preprocess_input\n",
    "\n",
    "test_dir = \"C:\\\\Users\\\\biann\\\\Documents\\\\CREMA-D\\\\test\"\n",
    "\n",
    "#Rescaling photos and setting validation split\n",
    "test_datagen = ImageDataGenerator(preprocessing_function=preprocess_input)\n",
    "\n",
    "#Creating generator for testing\n",
    "test_generator = test_datagen.flow_from_directory(\n",
    "    test_dir,\n",
    "    target_size = (224,224),\n",
    "    color_mode = \"rgb\",\n",
    "    class_mode='categorical',\n",
    "    shuffle = False\n",
    ")"
   ]
  },
  {
   "cell_type": "code",
   "execution_count": 234,
   "id": "b169f0ac",
   "metadata": {},
   "outputs": [
    {
     "name": "stdout",
     "output_type": "stream",
     "text": [
      "Found 5592 images belonging to 6 classes.\n",
      "Found 1117 images belonging to 6 classes.\n"
     ]
    }
   ],
   "source": [
    "train_dir = \"C:\\\\Users\\\\biann\\\\Documents\\\\CREMA-D\\\\train\"\n",
    "\n",
    "#Rescaling photos and setting validation split\n",
    "train_datagen = ImageDataGenerator(validation_split=0.2,preprocessing_function=preprocess_input)\n",
    "\n",
    "#Creating generators for training and validation\n",
    "train_generator = train_datagen.flow_from_directory(\n",
    "    train_dir,\n",
    "    target_size = (224,224),\n",
    "    color_mode = \"rgb\",\n",
    "    class_mode = \"categorical\"\n",
    ")\n",
    "\n",
    "validation_generator = train_datagen.flow_from_directory(\n",
    "    train_dir,\n",
    "    target_size = (224,224),\n",
    "    class_mode = \"categorical\",\n",
    "    subset = \"validation\",\n",
    ")"
   ]
  },
  {
   "cell_type": "code",
   "execution_count": 13,
   "id": "4dc85db2",
   "metadata": {},
   "outputs": [],
   "source": [
    "from tensorflow.keras.applications import MobileNetV2\n",
    "from tensorflow.keras.applications.mobilenet import preprocess_input\n",
    "import keras\n",
    "import tensorflow as tf \n",
    "from keras import layers\n",
    "from keras.models import Sequential\n",
    "from tensorflow.keras import regularizers\n",
    "from keras.layers import Activation, Dense, Dropout, Conv2D, Flatten, MaxPooling2D, GlobalMaxPooling2D, GlobalAveragePooling1D, AveragePooling2D, Input, Add\n"
   ]
  },
  {
   "cell_type": "code",
   "execution_count": 32,
   "id": "f8867bd3",
   "metadata": {},
   "outputs": [
    {
     "name": "stdout",
     "output_type": "stream",
     "text": [
      "Model: \"sequential_14\"\n",
      "_________________________________________________________________\n",
      " Layer (type)                Output Shape              Param #   \n",
      "=================================================================\n",
      " mobilenetv2_1.00_224 (Funct  (None, 7, 7, 1280)       2257984   \n",
      " ional)                                                          \n",
      "                                                                 \n",
      " flatten_13 (Flatten)        (None, 62720)             0         \n",
      "                                                                 \n",
      " dense_26 (Dense)            (None, 1024)              64226304  \n",
      "                                                                 \n",
      " dense_27 (Dense)            (None, 6)                 6150      \n",
      "                                                                 \n",
      "=================================================================\n",
      "Total params: 66,490,438\n",
      "Trainable params: 64,232,454\n",
      "Non-trainable params: 2,257,984\n",
      "_________________________________________________________________\n"
     ]
    }
   ],
   "source": [
    "# you need to freeze the layers in mobilenet\n",
    "# make sure that you are preprocessing inputs so that they are ready for mobilenet\n",
    "# you can do this either in your data generator OR in model\n",
    "\n",
    "mnet_mdl = Sequential()\n",
    "mnet_mdl.add(MobileNetV2(weights='imagenet', include_top=False, input_shape = (224,224,3)))\n",
    "mnet_mdl.add(Flatten())\n",
    "mnet_mdl.add(Dense(1024, activation='relu'))\n",
    "mnet_mdl.add(Dense(6, activation = 'softmax'))\n",
    "\n",
    "set_trainable = False\n",
    "for layer in mnet_mdl.layers[0].layers:\n",
    "    if layer.name == 'dense_27':\n",
    "        set_trainable = True\n",
    "    if set_trainable:\n",
    "        layer.trainable = True\n",
    "    else:\n",
    "        layer.trainable = False\n",
    "\n",
    "mnet_mdl.summary()"
   ]
  },
  {
   "cell_type": "code",
   "execution_count": 33,
   "id": "faa9e940",
   "metadata": {},
   "outputs": [],
   "source": [
    "mnet_mdl.compile(loss='categorical_crossentropy', optimizer=\"adam\", metrics=['accuracy'])"
   ]
  },
  {
   "cell_type": "code",
   "execution_count": 34,
   "id": "f7a36f58",
   "metadata": {},
   "outputs": [
    {
     "name": "stdout",
     "output_type": "stream",
     "text": [
      "Epoch 1/10\n",
      "50/50 [==============================] - 78s 1s/step - loss: 28.3603 - accuracy: 0.3719 - val_loss: 2.9651 - val_accuracy: 0.5139\n",
      "Epoch 2/10\n",
      "50/50 [==============================] - 76s 2s/step - loss: 2.2472 - accuracy: 0.4875 - val_loss: 1.7964 - val_accuracy: 0.5756\n",
      "Epoch 3/10\n",
      "50/50 [==============================] - 76s 2s/step - loss: 1.7554 - accuracy: 0.5369 - val_loss: 1.2963 - val_accuracy: 0.6150\n",
      "Epoch 4/10\n",
      "50/50 [==============================] - 77s 2s/step - loss: 1.3674 - accuracy: 0.5892 - val_loss: 1.4911 - val_accuracy: 0.5685\n",
      "Epoch 5/10\n",
      "50/50 [==============================] - 76s 2s/step - loss: 1.0273 - accuracy: 0.6495 - val_loss: 0.7698 - val_accuracy: 0.7386\n",
      "Epoch 6/10\n",
      "50/50 [==============================] - 77s 2s/step - loss: 0.8570 - accuracy: 0.6981 - val_loss: 0.6863 - val_accuracy: 0.7681\n",
      "Epoch 7/10\n",
      "50/50 [==============================] - 77s 2s/step - loss: 0.7896 - accuracy: 0.7237 - val_loss: 0.6680 - val_accuracy: 0.7780\n",
      "Epoch 8/10\n",
      "50/50 [==============================] - 76s 2s/step - loss: 0.7288 - accuracy: 0.7582 - val_loss: 0.6266 - val_accuracy: 0.7753\n",
      "Epoch 9/10\n",
      "50/50 [==============================] - 77s 2s/step - loss: 0.6538 - accuracy: 0.7808 - val_loss: 0.6220 - val_accuracy: 0.7869\n",
      "Epoch 10/10\n",
      "50/50 [==============================] - 77s 2s/step - loss: 0.6046 - accuracy: 0.7987 - val_loss: 0.6746 - val_accuracy: 0.7672\n"
     ]
    }
   ],
   "source": [
    "history = mnet_mdl.fit(train_generator, steps_per_epoch = 50, epochs = 10, validation_data = validation_generator)"
   ]
  },
  {
   "cell_type": "code",
   "execution_count": 55,
   "id": "9d3332f7",
   "metadata": {},
   "outputs": [
    {
     "name": "stdout",
     "output_type": "stream",
     "text": [
      "58/58 [==============================] - 65s 1s/step\n"
     ]
    },
    {
     "data": {
      "image/png": "[encoded data removed]",
      "text/plain": [
       "<Figure size 1200x800 with 1 Axes>"
      ]
     },
     "metadata": {},
     "output_type": "display_data"
    },
    {
     "name": "stdout",
     "output_type": "stream",
     "text": [
      "Classification Report:\n",
      "----------------------\n",
      "               precision    recall  f1-score   support\n",
      "\n",
      "         ANG     0.7586    0.5552    0.6412       317\n",
      "         DIS     0.3820    0.6297    0.4755       316\n",
      "         FEA     0.4597    0.3608    0.4043       316\n",
      "         HAP     0.4198    0.6044    0.4955       316\n",
      "         NEU     0.9200    0.0855    0.1565       269\n",
      "         SAD     0.5068    0.5918    0.5460       316\n",
      "\n",
      "    accuracy                         0.4811      1850\n",
      "   macro avg     0.5745    0.4712    0.4531      1850\n",
      "weighted avg     0.5658    0.4811    0.4608      1850\n",
      "\n"
     ]
    }
   ],
   "source": [
    "from sklearn.metrics import classification_report\n",
    "import seaborn as sns\n",
    "import numpy as np\n",
    "import matplotlib.pyplot as plt\n",
    "\n",
    "def predictor(test_gen):    \n",
    "    y_pred= []\n",
    "    error_list=[]\n",
    "    error_pred_list = []\n",
    "    y_true=test_generator.labels\n",
    "    classes=list(test_generator.class_indices.keys())\n",
    "    class_count=len(classes)\n",
    "    errors=0\n",
    "    preds=mnet_mdl.predict(test_gen, verbose=1)\n",
    "    tests=len(preds)    \n",
    "    for i, p in enumerate(preds):        \n",
    "        pred_index=np.argmax(p)         \n",
    "        true_index=test_generator.labels[i]  # labels are integer values        \n",
    "        if pred_index != true_index: # a misclassification has occurred                                           \n",
    "            errors=errors + 1\n",
    "            file=test_gen.filenames[i]\n",
    "            error_list.append(file)\n",
    "            error_class=classes[pred_index]\n",
    "            error_pred_list.append(error_class)\n",
    "        y_pred.append(pred_index)\n",
    "            \n",
    "    acc=( 1-errors/tests) * 100\n",
    "    msg=f'there were {errors} errors in {tests} tests for an accuracy of {acc:6.2f}'\n",
    "    ypred=np.array(y_pred)\n",
    "    ytrue=np.array(y_true)\n",
    "    f1score=f1_score(ytrue, ypred, average='weighted')* 100\n",
    "    if class_count <=30:\n",
    "        cm = confusion_matrix(ytrue, ypred )\n",
    "        # plot the confusion matrix\n",
    "        plt.figure(figsize=(12, 8))\n",
    "        sns.heatmap(cm, annot=True, vmin=0, fmt='g', cmap='Blues', cbar=False)       \n",
    "        plt.xticks(np.arange(class_count)+.5, classes, rotation=90)\n",
    "        plt.yticks(np.arange(class_count)+.5, classes, rotation=0)\n",
    "        plt.xlabel(\"Predicted\")\n",
    "        plt.ylabel(\"Actual\")\n",
    "        plt.title(\"Confusion Matrix\")\n",
    "        plt.show()\n",
    "    clr = classification_report(y_true, y_pred, target_names=classes, digits= 4) # create classification report\n",
    "    print(\"Classification Report:\\n----------------------\\n\", clr)\n",
    "    return errors, tests, error_list, error_pred_list, f1score\n",
    "\n",
    "errors, tests, error_list, error_pred_list, f1score =predictor(test_generator)"
   ]
  },
  {
   "cell_type": "code",
   "execution_count": 65,
   "id": "98ab97bf",
   "metadata": {},
   "outputs": [],
   "source": [
    "mnet_mdl.layers[0].layers[-3].trainable = True"
   ]
  },
  {
   "cell_type": "code",
   "execution_count": 66,
   "id": "0798298b",
   "metadata": {},
   "outputs": [
    {
     "name": "stdout",
     "output_type": "stream",
     "text": [
      "Epoch 1/10\n",
      "50/50 [==============================] - 113s 2s/step - loss: 0.6286 - accuracy: 0.7915 - val_loss: 0.4425 - val_accuracy: 0.8460\n",
      "Epoch 2/10\n",
      "50/50 [==============================] - 111s 2s/step - loss: 0.4376 - accuracy: 0.8569 - val_loss: 0.3622 - val_accuracy: 0.8756\n",
      "Epoch 3/10\n",
      "50/50 [==============================] - 84s 2s/step - loss: 0.4510 - accuracy: 0.8375 - val_loss: 0.4577 - val_accuracy: 0.8433\n",
      "Epoch 4/10\n",
      "50/50 [==============================] - 78s 2s/step - loss: 0.3813 - accuracy: 0.8581 - val_loss: 0.3489 - val_accuracy: 0.8774\n",
      "Epoch 5/10\n",
      "50/50 [==============================] - 78s 2s/step - loss: 0.4143 - accuracy: 0.8500 - val_loss: 0.3226 - val_accuracy: 0.8854\n",
      "Epoch 6/10\n",
      "50/50 [==============================] - 77s 2s/step - loss: 0.3731 - accuracy: 0.8744 - val_loss: 0.3232 - val_accuracy: 0.8908\n",
      "Epoch 7/10\n",
      "50/50 [==============================] - 79s 2s/step - loss: 0.3290 - accuracy: 0.8844 - val_loss: 0.3825 - val_accuracy: 0.8648\n",
      "Epoch 8/10\n",
      "50/50 [==============================] - 79s 2s/step - loss: 0.2745 - accuracy: 0.8994 - val_loss: 0.1918 - val_accuracy: 0.9391\n",
      "Epoch 9/10\n",
      "50/50 [==============================] - 78s 2s/step - loss: 0.2240 - accuracy: 0.9350 - val_loss: 0.1727 - val_accuracy: 0.9517\n",
      "Epoch 10/10\n",
      "50/50 [==============================] - 78s 2s/step - loss: 0.2230 - accuracy: 0.9237 - val_loss: 0.1947 - val_accuracy: 0.9346\n"
     ]
    }
   ],
   "source": [
    "history = mnet_mdl.fit(train_generator, steps_per_epoch = 50, epochs = 10, validation_data = validation_generator)"
   ]
  },
  {
   "cell_type": "code",
   "execution_count": 67,
   "id": "7def2133",
   "metadata": {},
   "outputs": [
    {
     "name": "stdout",
     "output_type": "stream",
     "text": [
      "58/58 [==============================] - 43s 740ms/step\n"
     ]
    },
    {
     "data": {
      "image/png": "[encoded data removed]",
      "text/plain": [
       "<Figure size 1200x800 with 1 Axes>"
      ]
     },
     "metadata": {},
     "output_type": "display_data"
    },
    {
     "name": "stdout",
     "output_type": "stream",
     "text": [
      "Classification Report:\n",
      "----------------------\n",
      "               precision    recall  f1-score   support\n",
      "\n",
      "         ANG     0.8384    0.5237    0.6447       317\n",
      "         DIS     0.5052    0.4620    0.4826       316\n",
      "         FEA     0.3753    0.5190    0.4356       316\n",
      "         HAP     0.4391    0.6392    0.5206       316\n",
      "         NEU     0.6424    0.3941    0.4885       269\n",
      "         SAD     0.5116    0.4873    0.4992       316\n",
      "\n",
      "    accuracy                         0.5070      1850\n",
      "   macro avg     0.5520    0.5042    0.5119      1850\n",
      "weighted avg     0.5499    0.5070    0.5125      1850\n",
      "\n"
     ]
    }
   ],
   "source": [
    "def predictor(test_gen):    \n",
    "    y_pred= []\n",
    "    error_list=[]\n",
    "    error_pred_list = []\n",
    "    y_true=test_generator.labels\n",
    "    classes=list(test_generator.class_indices.keys())\n",
    "    class_count=len(classes)\n",
    "    errors=0\n",
    "    preds=mnet_mdl.predict(test_gen, verbose=1)\n",
    "    tests=len(preds)    \n",
    "    for i, p in enumerate(preds):        \n",
    "        pred_index=np.argmax(p)         \n",
    "        true_index=test_generator.labels[i]  # labels are integer values        \n",
    "        if pred_index != true_index: # a misclassification has occurred                                           \n",
    "            errors=errors + 1\n",
    "            file=test_gen.filenames[i]\n",
    "            error_list.append(file)\n",
    "            error_class=classes[pred_index]\n",
    "            error_pred_list.append(error_class)\n",
    "        y_pred.append(pred_index)\n",
    "            \n",
    "    acc=( 1-errors/tests) * 100\n",
    "    msg=f'there were {errors} errors in {tests} tests for an accuracy of {acc:6.2f}'\n",
    "    ypred=np.array(y_pred)\n",
    "    ytrue=np.array(y_true)\n",
    "    f1score=f1_score(ytrue, ypred, average='weighted')* 100\n",
    "    if class_count <=30:\n",
    "        cm = confusion_matrix(ytrue, ypred )\n",
    "        # plot the confusion matrix\n",
    "        plt.figure(figsize=(12, 8))\n",
    "        sns.heatmap(cm, annot=True, vmin=0, fmt='g', cmap='Blues', cbar=False)       \n",
    "        plt.xticks(np.arange(class_count)+.5, classes, rotation=90)\n",
    "        plt.yticks(np.arange(class_count)+.5, classes, rotation=0)\n",
    "        plt.xlabel(\"Predicted\")\n",
    "        plt.ylabel(\"Actual\")\n",
    "        plt.title(\"Confusion Matrix\")\n",
    "        plt.show()\n",
    "    clr = classification_report(y_true, y_pred, target_names=classes, digits= 4) # create classification report\n",
    "    print(\"Classification Report:\\n----------------------\\n\", clr)\n",
    "    return errors, tests, error_list, error_pred_list, f1score\n",
    "\n",
    "errors, tests, error_list, error_pred_list, f1score =predictor(test_generator)"
   ]
  },
  {
   "cell_type": "code",
   "execution_count": null,
   "id": "9890d25a",
   "metadata": {},
   "outputs": [],
   "source": []
  },
  {
   "cell_type": "code",
   "execution_count": null,
   "id": "14830c76",
   "metadata": {},
   "outputs": [],
   "source": []
  },
  {
   "cell_type": "code",
   "execution_count": null,
   "id": "797f63f0",
   "metadata": {},
   "outputs": [],
   "source": []
  },
  {
   "cell_type": "code",
   "execution_count": null,
   "id": "09513343",
   "metadata": {},
   "outputs": [],
   "source": []
  },
  {
   "cell_type": "code",
   "execution_count": null,
   "id": "09a6c394",
   "metadata": {},
   "outputs": [],
   "source": []
  }
 ],
 "metadata": {
  "kernelspec": {
   "display_name": "beegbrain",
   "language": "python",
   "name": "beegbrain"
  },
  "language_info": {
   "codemirror_mode": {
    "name": "ipython",
    "version": 3
   },
   "file_extension": ".py",
   "mimetype": "text/x-python",
   "name": "python",
   "nbconvert_exporter": "python",
   "pygments_lexer": "ipython3",
   "version": "3.10.12"
  }
 },
 "nbformat": 4,
 "nbformat_minor": 5
}
